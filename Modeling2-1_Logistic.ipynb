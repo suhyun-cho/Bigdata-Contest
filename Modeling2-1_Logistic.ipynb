{
 "cells": [
  {
   "cell_type": "markdown",
   "metadata": {},
   "source": [
    "## Modeling2-1_Logistic-Regression\n",
    "* 기상청 날씨와 주어진 공장내부정보로  결로 예측\n",
    "    * 우선은 모델링을 위해 24시간 후 아닌, 주어진 시점에서의 날씨와 공장정보로 결로예측해보기.\n",
    "* 결측값 처리\n",
    "    * 선형보간법으로 기상청 날씨 결측값 채우기"
   ]
  },
  {
   "cell_type": "code",
   "execution_count": null,
   "metadata": {},
   "outputs": [],
   "source": [
    "import numpy as np # linear algebra\n",
    "import pandas as pd # data processing, CSV file I/O (e.g. pd.read_csv)\n",
    "import matplotlib.pyplot as plt\n",
    "import seaborn as sns\n",
    "color = sns.color_palette()\n",
    "from itertools import cycle\n",
    "%matplotlib inline\n",
    "pd.options.mode.chained_assignment = None  # default='warn'\n",
    "\n",
    "pd.set_option('max_columns', 50)\n",
    "plt.style.use('bmh')\n",
    "color_pal = plt.rcParams['axes.prop_cycle'].by_key()['color']\n",
    "color_cycle = cycle(plt.rcParams['axes.prop_cycle'].by_key()['color'])"
   ]
  },
  {
   "cell_type": "code",
   "execution_count": null,
   "metadata": {},
   "outputs": [],
   "source": [
    "# jupyter notebook cell 너비 조절\n",
    "from IPython.core.display import display, HTML\n",
    "display(HTML(\"<style>.container { width:98% !important; }</style>\"))\n",
    "\n",
    "import warnings\n",
    "warnings.filterwarnings(\"ignore\")"
   ]
  },
  {
   "cell_type": "code",
   "execution_count": null,
   "metadata": {},
   "outputs": [],
   "source": [
    "# 한글깨짐 문제\n",
    "import matplotlib.pyplot as plt\n",
    "from matplotlib import rc\n",
    "rc('font', family='AppleGothic')\n",
    "plt.rcParams['axes.unicode_minus'] = False"
   ]
  },
  {
   "cell_type": "code",
   "execution_count": null,
   "metadata": {},
   "outputs": [],
   "source": [
    "plant1_train=pd.read_csv('./data/plant1_train.csv',index_col=[0],parse_dates=['plant1_train.mea_ddhr'])\n",
    "plant2_train=pd.read_csv('./data/plant2_train.csv',index_col=[0],parse_dates=['plant2_train.mea_ddhr'])\n",
    "plant_test=pd.read_csv('./data/plant_test.csv',index_col=[0],parse_dates=['plant_test.mea_ddhr'])\n",
    "\n",
    "# 서산\n",
    "seosan=pd.read_csv('./data/asos_서산_시간별.csv',index_col=None,parse_dates=['일시'])\n",
    "seosan=seosan.rename(columns={'일시':'datetime','기온(°C)':'tem','습도(%)':'hum','이슬점온도(°C)':'dew','증기압(hPa)':'vapor'})\n",
    "seosan=seosan[['datetime','tem','hum','vapor','dew']]\n",
    "\n",
    "# test데이터셋과 동일하게 train 데이터 전처리\n",
    "plant_train=pd.read_csv('./data/plant_train.csv',index_col=[0],parse_dates=['datetime'])"
   ]
  },
  {
   "cell_type": "code",
   "execution_count": null,
   "metadata": {},
   "outputs": [],
   "source": [
    "# 공장 컬럼명 정리\n",
    "plant = [plant1_train, plant2_train, plant_test]\n",
    "\n",
    "for p in plant:\n",
    "    p.columns = [col.split('.')[1] for col in p.columns]    \n",
    "    p.rename(columns={'mea_ddhr':'datetime'}, inplace=True)    "
   ]
  },
  {
   "cell_type": "markdown",
   "metadata": {},
   "source": [
    "#### 공장별 loc별 데이터 가져오기"
   ]
  },
  {
   "cell_type": "code",
   "execution_count": null,
   "metadata": {},
   "outputs": [],
   "source": [
    "# 컬럼에 loc1이 있는 값과 datetime만 가져오기.\n",
    "### plant1_train데이터 사용시.\n",
    "loc_col=[]\n",
    "for c in plant1_train.columns:\n",
    "    if 'loc1' in c or 'datetime' in c:\n",
    "        loc_col.append(c)\n",
    "print(loc_col)"
   ]
  },
  {
   "cell_type": "markdown",
   "metadata": {},
   "source": [
    "#### plant_train 데이터의 datetime기준으로 기상청날씨 left join\n",
    "* cond가 nan인 row는 모두 제거\n",
    "* 나머지 결측치는 시계열 날짜 index를 기준으로 결측값 보간"
   ]
  },
  {
   "cell_type": "code",
   "execution_count": null,
   "metadata": {},
   "outputs": [],
   "source": [
    "# datetime컬럼을 키값으로, plant_train데이터기준으로 left join\n",
    "df_merge=pd.merge(plant_train,seosan,on='datetime',how='left')\n",
    "\n",
    "# 결로(cond)가 결측치인 row 모두 제거.\n",
    "df_merge=df_merge.iloc[df_merge['cond'].dropna(axis=0).index]\n",
    "\n",
    "# 기상청 날씨의 결측치는 선형보간법으로 채우기.\n",
    "df_merge=df_merge.interpolate()\n",
    "df_merge"
   ]
  },
  {
   "cell_type": "markdown",
   "metadata": {},
   "source": [
    "#### plant별 loc별 데이터 가져오기"
   ]
  },
  {
   "cell_type": "code",
   "execution_count": null,
   "metadata": {},
   "outputs": [],
   "source": [
    "def select_plant_loc(data, plant, loc):\n",
    "    result=data.loc[(data['plant']==plant) & (data['loc']==loc)]\n",
    "    return result"
   ]
  },
  {
   "cell_type": "code",
   "execution_count": null,
   "metadata": {},
   "outputs": [],
   "source": []
  },
  {
   "cell_type": "code",
   "execution_count": null,
   "metadata": {},
   "outputs": [],
   "source": []
  },
  {
   "cell_type": "code",
   "execution_count": null,
   "metadata": {},
   "outputs": [],
   "source": []
  },
  {
   "cell_type": "code",
   "execution_count": null,
   "metadata": {},
   "outputs": [],
   "source": []
  }
 ],
 "metadata": {
  "kernelspec": {
   "display_name": "suhyun2",
   "language": "python",
   "name": "suhyun2"
  },
  "language_info": {
   "codemirror_mode": {
    "name": "ipython",
    "version": 3
   },
   "file_extension": ".py",
   "mimetype": "text/x-python",
   "name": "python",
   "nbconvert_exporter": "python",
   "pygments_lexer": "ipython3",
   "version": "3.6.8"
  }
 },
 "nbformat": 4,
 "nbformat_minor": 2
}
