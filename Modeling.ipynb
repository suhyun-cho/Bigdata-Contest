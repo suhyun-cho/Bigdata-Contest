{
 "cells": [
  {
   "cell_type": "markdown",
   "metadata": {},
   "source": [
    "# Modeling\n",
    "### plan\n",
    "> 1) 기상청 데이터를 활용해서 외부 날씨 예측 => 시계열\n",
    "    * 이때, test데이터에는 30분 단위 값도 있고, 기상청 데이터는 1시간 단위이므로 기상청 데이터에 30분단위도 추가필요\n",
    "    * 같은시간대의 데이터만 가져와서 시간대별로 예측하는 방식\n",
    "> 2) 외부 날씨로 공장내부 온도,습도,코일온도,이슬점온도 등을 예측 => 회귀\n",
    "\n",
    "> 3) 공장내부 온도,습도,코일온도,이슬점온도 등의 정보로 결로현상 예측 => 분류, 로지스틱회귀\n"
   ]
  },
  {
   "cell_type": "code",
   "execution_count": 1,
   "metadata": {},
   "outputs": [],
   "source": [
    "import numpy as np # linear algebra\n",
    "import pandas as pd # data processing, CSV file I/O (e.g. pd.read_csv)\n",
    "import matplotlib.pyplot as plt\n",
    "import seaborn as sns\n",
    "color = sns.color_palette()\n",
    "from itertools import cycle\n",
    "%matplotlib inline\n",
    "pd.options.mode.chained_assignment = None  # default='warn'\n",
    "\n",
    "pd.set_option('max_columns', 50)\n",
    "plt.style.use('bmh')\n",
    "color_pal = plt.rcParams['axes.prop_cycle'].by_key()['color']\n",
    "color_cycle = cycle(plt.rcParams['axes.prop_cycle'].by_key()['color'])"
   ]
  },
  {
   "cell_type": "code",
   "execution_count": 2,
   "metadata": {},
   "outputs": [
    {
     "data": {
      "text/html": [
       "<style>.container { width:98% !important; }</style>"
      ],
      "text/plain": [
       "<IPython.core.display.HTML object>"
      ]
     },
     "metadata": {},
     "output_type": "display_data"
    }
   ],
   "source": [
    "# jupyter notebook cell 너비 조절\n",
    "from IPython.core.display import display, HTML\n",
    "display(HTML(\"<style>.container { width:98% !important; }</style>\"))\n",
    "\n",
    "import warnings\n",
    "warnings.filterwarnings(\"ignore\")"
   ]
  },
  {
   "cell_type": "code",
   "execution_count": 3,
   "metadata": {},
   "outputs": [],
   "source": [
    "# 한글깨짐 문제\n",
    "import matplotlib.pyplot as plt\n",
    "from matplotlib import rc\n",
    "rc('font', family='AppleGothic')\n",
    "plt.rcParams['axes.unicode_minus'] = False"
   ]
  },
  {
   "cell_type": "code",
   "execution_count": 15,
   "metadata": {},
   "outputs": [],
   "source": [
    "plant1_train=pd.read_csv('./data/plant1_train.csv',index_col=[0],parse_dates=['plant1_train.mea_ddhr'])\n",
    "plant2_train=pd.read_csv('./data/plant2_train.csv',index_col=[0],parse_dates=['plant2_train.mea_ddhr'])\n",
    "plant_test=pd.read_csv('./data/plant_test.csv',index_col=[0],parse_dates=['plant_test.mea_ddhr'])\n",
    "\n",
    "# 당진\n",
    "dangjin_humid=pd.read_csv('./data/dangjin_humid.csv',index_col=None)\n",
    "dangjin_rain=pd.read_csv('./data/dangjin_rain.csv',index_col=None)\n",
    "dangjin_tem=pd.read_csv('./data/dangjin_tem.csv',index_col=None)\n",
    "\n",
    "# 신평\n",
    "shinpyung_humid=pd.read_csv('./data/shinpyung_humid.csv',index_col=None)\n",
    "shinpyung_rain=pd.read_csv('./data/shinpyung_rain.csv',index_col=None)\n",
    "shinpyung_tem=pd.read_csv('./data/shinpyung_tem.csv',index_col=None)\n",
    "\n",
    "# 서산\n",
    "seosan=pd.read_csv('./data/asos_서산_시간별.csv',index_col=None,parse_dates=['일시'])\n",
    "\n",
    "# test데이터셋과 동일하게 train 데이터 전처리\n",
    "plant_train=pd.read_csv('./data/plant_train.csv',index_col=[0])"
   ]
  },
  {
   "cell_type": "code",
   "execution_count": 7,
   "metadata": {},
   "outputs": [],
   "source": [
    "# 서산\n",
    "seosan=pd.read_csv('./data/asos_서산_시간별.csv',index_col=None,parse_dates=['일시'])"
   ]
  },
  {
   "cell_type": "markdown",
   "metadata": {},
   "source": [
    "### 컬럼명 전처리"
   ]
  },
  {
   "cell_type": "code",
   "execution_count": 16,
   "metadata": {},
   "outputs": [],
   "source": [
    "# 날씨 컬럼명 정리\n",
    "dangjin = [dangjin_tem, dangjin_rain, dangjin_humid]\n",
    "#seosan=[seosan]\n",
    "\n",
    "for d in dangjin:\n",
    "    d.columns = [col.split('.')[1] for col in d.columns]    \n",
    "    d.rename(columns={'tm':'datetime'}, inplace=True)    "
   ]
  },
  {
   "cell_type": "code",
   "execution_count": 17,
   "metadata": {},
   "outputs": [],
   "source": [
    "# 공장 컬럼명 정리\n",
    "plant = [plant1_train, plant2_train, plant_test]\n",
    "\n",
    "for p in plant:\n",
    "    p.columns = [col.split('.')[1] for col in p.columns]    \n",
    "    p.rename(columns={'mea_ddhr':'datetime'}, inplace=True)    "
   ]
  },
  {
   "cell_type": "markdown",
   "metadata": {},
   "source": [
    "### 기온, 습도, 이슬점온도 컬럼 분리"
   ]
  },
  {
   "cell_type": "code",
   "execution_count": 8,
   "metadata": {},
   "outputs": [],
   "source": [
    "# 30분단위 추가 전\n",
    "seosan_hum=seosan[['일시','습도(%)']]\n",
    "seosan_hum.columns=['일시','습도']\n",
    "seosan_dew=seosan[['일시','이슬점온도(°C)']]\n",
    "seosan_dew.columns=['일시','이슬점온도']\n",
    "seosan_tem=seosan[['일시','기온(°C)']]\n",
    "seosan_tem.columns=['일시','기온']\n",
    "#seosan_tem=seosan_tem.iloc[:26246]     # train 데이터 분리."
   ]
  },
  {
   "cell_type": "markdown",
   "metadata": {},
   "source": [
    "### 30분 단위 추가"
   ]
  },
  {
   "cell_type": "code",
   "execution_count": 9,
   "metadata": {},
   "outputs": [
    {
     "data": {
      "text/html": [
       "<div>\n",
       "<style scoped>\n",
       "    .dataframe tbody tr th:only-of-type {\n",
       "        vertical-align: middle;\n",
       "    }\n",
       "\n",
       "    .dataframe tbody tr th {\n",
       "        vertical-align: top;\n",
       "    }\n",
       "\n",
       "    .dataframe thead th {\n",
       "        text-align: right;\n",
       "    }\n",
       "</style>\n",
       "<table border=\"1\" class=\"dataframe\">\n",
       "  <thead>\n",
       "    <tr style=\"text-align: right;\">\n",
       "      <th></th>\n",
       "      <th>10cm 지중온도(°C)</th>\n",
       "      <th>20cm 지중온도(°C)</th>\n",
       "      <th>30cm 지중온도(°C)</th>\n",
       "      <th>3시간신적설(cm)</th>\n",
       "      <th>5cm 지중온도(°C)</th>\n",
       "      <th>강수량 QC플래그</th>\n",
       "      <th>강수량(mm)</th>\n",
       "      <th>기온 QC플래그</th>\n",
       "      <th>기온(°C)</th>\n",
       "      <th>습도 QC플래그</th>\n",
       "      <th>습도(%)</th>\n",
       "      <th>시정(10m)</th>\n",
       "      <th>운형(운형약어)</th>\n",
       "      <th>이슬점온도(°C)</th>\n",
       "      <th>일사(MJ/m2)</th>\n",
       "      <th>일시</th>\n",
       "      <th>일조 QC플래그</th>\n",
       "      <th>일조(hr)</th>\n",
       "      <th>적설(cm)</th>\n",
       "      <th>전운량(10분위)</th>\n",
       "      <th>중하층운량(10분위)</th>\n",
       "      <th>증기압(hPa)</th>\n",
       "      <th>지면상태(지면상태코드)</th>\n",
       "      <th>지면온도 QC플래그</th>\n",
       "      <th>지면온도(°C)</th>\n",
       "      <th>지점</th>\n",
       "      <th>지점명</th>\n",
       "      <th>최저운고(100m )</th>\n",
       "      <th>풍속 QC플래그</th>\n",
       "      <th>풍속(m/s)</th>\n",
       "      <th>풍향 QC플래그</th>\n",
       "      <th>풍향(16방위)</th>\n",
       "      <th>해면기압 QC플래그</th>\n",
       "      <th>해면기압(hPa)</th>\n",
       "      <th>현상번호(국내식)</th>\n",
       "      <th>현지기압 QC플래그</th>\n",
       "      <th>현지기압(hPa)</th>\n",
       "    </tr>\n",
       "  </thead>\n",
       "  <tbody>\n",
       "    <tr>\n",
       "      <td>0</td>\n",
       "      <td>NaN</td>\n",
       "      <td>NaN</td>\n",
       "      <td>NaN</td>\n",
       "      <td>NaN</td>\n",
       "      <td>NaN</td>\n",
       "      <td>NaN</td>\n",
       "      <td>NaN</td>\n",
       "      <td>0.0</td>\n",
       "      <td>8.8</td>\n",
       "      <td>0.0</td>\n",
       "      <td>41.0</td>\n",
       "      <td>2000.0</td>\n",
       "      <td>NaN</td>\n",
       "      <td>-3.7</td>\n",
       "      <td>NaN</td>\n",
       "      <td>2016-04-01 00:00:00</td>\n",
       "      <td>9.0</td>\n",
       "      <td>NaN</td>\n",
       "      <td>NaN</td>\n",
       "      <td>0.0</td>\n",
       "      <td>0.0</td>\n",
       "      <td>4.6</td>\n",
       "      <td>NaN</td>\n",
       "      <td>0.0</td>\n",
       "      <td>4.0</td>\n",
       "      <td>129.0</td>\n",
       "      <td>서산</td>\n",
       "      <td>NaN</td>\n",
       "      <td>0.0</td>\n",
       "      <td>1.5</td>\n",
       "      <td>0.0</td>\n",
       "      <td>50.0</td>\n",
       "      <td>0.0</td>\n",
       "      <td>1015.6</td>\n",
       "      <td>NaN</td>\n",
       "      <td>0.0</td>\n",
       "      <td>1012.1</td>\n",
       "    </tr>\n",
       "    <tr>\n",
       "      <td>1</td>\n",
       "      <td>NaN</td>\n",
       "      <td>NaN</td>\n",
       "      <td>NaN</td>\n",
       "      <td>NaN</td>\n",
       "      <td>NaN</td>\n",
       "      <td>NaN</td>\n",
       "      <td>NaN</td>\n",
       "      <td>NaN</td>\n",
       "      <td>NaN</td>\n",
       "      <td>NaN</td>\n",
       "      <td>NaN</td>\n",
       "      <td>NaN</td>\n",
       "      <td>NaN</td>\n",
       "      <td>NaN</td>\n",
       "      <td>NaN</td>\n",
       "      <td>2016-04-01 00:30:00</td>\n",
       "      <td>NaN</td>\n",
       "      <td>NaN</td>\n",
       "      <td>NaN</td>\n",
       "      <td>NaN</td>\n",
       "      <td>NaN</td>\n",
       "      <td>NaN</td>\n",
       "      <td>NaN</td>\n",
       "      <td>NaN</td>\n",
       "      <td>NaN</td>\n",
       "      <td>NaN</td>\n",
       "      <td>NaN</td>\n",
       "      <td>NaN</td>\n",
       "      <td>NaN</td>\n",
       "      <td>NaN</td>\n",
       "      <td>NaN</td>\n",
       "      <td>NaN</td>\n",
       "      <td>NaN</td>\n",
       "      <td>NaN</td>\n",
       "      <td>NaN</td>\n",
       "      <td>NaN</td>\n",
       "      <td>NaN</td>\n",
       "    </tr>\n",
       "    <tr>\n",
       "      <td>2</td>\n",
       "      <td>NaN</td>\n",
       "      <td>NaN</td>\n",
       "      <td>NaN</td>\n",
       "      <td>NaN</td>\n",
       "      <td>NaN</td>\n",
       "      <td>NaN</td>\n",
       "      <td>NaN</td>\n",
       "      <td>0.0</td>\n",
       "      <td>9.2</td>\n",
       "      <td>0.0</td>\n",
       "      <td>34.0</td>\n",
       "      <td>2000.0</td>\n",
       "      <td>NaN</td>\n",
       "      <td>-5.8</td>\n",
       "      <td>NaN</td>\n",
       "      <td>2016-04-01 01:00:00</td>\n",
       "      <td>9.0</td>\n",
       "      <td>NaN</td>\n",
       "      <td>NaN</td>\n",
       "      <td>NaN</td>\n",
       "      <td>NaN</td>\n",
       "      <td>4.0</td>\n",
       "      <td>NaN</td>\n",
       "      <td>0.0</td>\n",
       "      <td>3.4</td>\n",
       "      <td>129.0</td>\n",
       "      <td>서산</td>\n",
       "      <td>NaN</td>\n",
       "      <td>0.0</td>\n",
       "      <td>1.2</td>\n",
       "      <td>0.0</td>\n",
       "      <td>50.0</td>\n",
       "      <td>0.0</td>\n",
       "      <td>1015.2</td>\n",
       "      <td>NaN</td>\n",
       "      <td>0.0</td>\n",
       "      <td>1011.7</td>\n",
       "    </tr>\n",
       "    <tr>\n",
       "      <td>3</td>\n",
       "      <td>NaN</td>\n",
       "      <td>NaN</td>\n",
       "      <td>NaN</td>\n",
       "      <td>NaN</td>\n",
       "      <td>NaN</td>\n",
       "      <td>NaN</td>\n",
       "      <td>NaN</td>\n",
       "      <td>NaN</td>\n",
       "      <td>NaN</td>\n",
       "      <td>NaN</td>\n",
       "      <td>NaN</td>\n",
       "      <td>NaN</td>\n",
       "      <td>NaN</td>\n",
       "      <td>NaN</td>\n",
       "      <td>NaN</td>\n",
       "      <td>2016-04-01 01:30:00</td>\n",
       "      <td>NaN</td>\n",
       "      <td>NaN</td>\n",
       "      <td>NaN</td>\n",
       "      <td>NaN</td>\n",
       "      <td>NaN</td>\n",
       "      <td>NaN</td>\n",
       "      <td>NaN</td>\n",
       "      <td>NaN</td>\n",
       "      <td>NaN</td>\n",
       "      <td>NaN</td>\n",
       "      <td>NaN</td>\n",
       "      <td>NaN</td>\n",
       "      <td>NaN</td>\n",
       "      <td>NaN</td>\n",
       "      <td>NaN</td>\n",
       "      <td>NaN</td>\n",
       "      <td>NaN</td>\n",
       "      <td>NaN</td>\n",
       "      <td>NaN</td>\n",
       "      <td>NaN</td>\n",
       "      <td>NaN</td>\n",
       "    </tr>\n",
       "    <tr>\n",
       "      <td>4</td>\n",
       "      <td>NaN</td>\n",
       "      <td>NaN</td>\n",
       "      <td>NaN</td>\n",
       "      <td>NaN</td>\n",
       "      <td>NaN</td>\n",
       "      <td>NaN</td>\n",
       "      <td>NaN</td>\n",
       "      <td>0.0</td>\n",
       "      <td>9.2</td>\n",
       "      <td>0.0</td>\n",
       "      <td>33.0</td>\n",
       "      <td>2000.0</td>\n",
       "      <td>NaN</td>\n",
       "      <td>-6.2</td>\n",
       "      <td>NaN</td>\n",
       "      <td>2016-04-01 02:00:00</td>\n",
       "      <td>9.0</td>\n",
       "      <td>NaN</td>\n",
       "      <td>NaN</td>\n",
       "      <td>NaN</td>\n",
       "      <td>NaN</td>\n",
       "      <td>3.8</td>\n",
       "      <td>NaN</td>\n",
       "      <td>0.0</td>\n",
       "      <td>3.3</td>\n",
       "      <td>129.0</td>\n",
       "      <td>서산</td>\n",
       "      <td>NaN</td>\n",
       "      <td>0.0</td>\n",
       "      <td>1.1</td>\n",
       "      <td>0.0</td>\n",
       "      <td>20.0</td>\n",
       "      <td>0.0</td>\n",
       "      <td>1014.8</td>\n",
       "      <td>NaN</td>\n",
       "      <td>0.0</td>\n",
       "      <td>1011.3</td>\n",
       "    </tr>\n",
       "  </tbody>\n",
       "</table>\n",
       "</div>"
      ],
      "text/plain": [
       "   10cm 지중온도(°C)  20cm 지중온도(°C)  30cm 지중온도(°C)  3시간신적설(cm)  5cm 지중온도(°C)  \\\n",
       "0            NaN            NaN            NaN         NaN           NaN   \n",
       "1            NaN            NaN            NaN         NaN           NaN   \n",
       "2            NaN            NaN            NaN         NaN           NaN   \n",
       "3            NaN            NaN            NaN         NaN           NaN   \n",
       "4            NaN            NaN            NaN         NaN           NaN   \n",
       "\n",
       "   강수량 QC플래그  강수량(mm)  기온 QC플래그  기온(°C)  습도 QC플래그  습도(%)  시정(10m) 운형(운형약어)  \\\n",
       "0        NaN      NaN       0.0     8.8       0.0   41.0   2000.0      NaN   \n",
       "1        NaN      NaN       NaN     NaN       NaN    NaN      NaN      NaN   \n",
       "2        NaN      NaN       0.0     9.2       0.0   34.0   2000.0      NaN   \n",
       "3        NaN      NaN       NaN     NaN       NaN    NaN      NaN      NaN   \n",
       "4        NaN      NaN       0.0     9.2       0.0   33.0   2000.0      NaN   \n",
       "\n",
       "   이슬점온도(°C)  일사(MJ/m2)                  일시  일조 QC플래그  일조(hr)  적설(cm)  \\\n",
       "0       -3.7        NaN 2016-04-01 00:00:00       9.0     NaN     NaN   \n",
       "1        NaN        NaN 2016-04-01 00:30:00       NaN     NaN     NaN   \n",
       "2       -5.8        NaN 2016-04-01 01:00:00       9.0     NaN     NaN   \n",
       "3        NaN        NaN 2016-04-01 01:30:00       NaN     NaN     NaN   \n",
       "4       -6.2        NaN 2016-04-01 02:00:00       9.0     NaN     NaN   \n",
       "\n",
       "   전운량(10분위)  중하층운량(10분위)  증기압(hPa)  지면상태(지면상태코드)  지면온도 QC플래그  지면온도(°C)  \\\n",
       "0        0.0          0.0       4.6           NaN         0.0       4.0   \n",
       "1        NaN          NaN       NaN           NaN         NaN       NaN   \n",
       "2        NaN          NaN       4.0           NaN         0.0       3.4   \n",
       "3        NaN          NaN       NaN           NaN         NaN       NaN   \n",
       "4        NaN          NaN       3.8           NaN         0.0       3.3   \n",
       "\n",
       "      지점  지점명  최저운고(100m )  풍속 QC플래그  풍속(m/s)  풍향 QC플래그  풍향(16방위)  해면기압 QC플래그  \\\n",
       "0  129.0   서산          NaN       0.0      1.5       0.0      50.0         0.0   \n",
       "1    NaN  NaN          NaN       NaN      NaN       NaN       NaN         NaN   \n",
       "2  129.0   서산          NaN       0.0      1.2       0.0      50.0         0.0   \n",
       "3    NaN  NaN          NaN       NaN      NaN       NaN       NaN         NaN   \n",
       "4  129.0   서산          NaN       0.0      1.1       0.0      20.0         0.0   \n",
       "\n",
       "   해면기압(hPa)  현상번호(국내식)  현지기압 QC플래그  현지기압(hPa)  \n",
       "0     1015.6        NaN         0.0     1012.1  \n",
       "1        NaN        NaN         NaN        NaN  \n",
       "2     1015.2        NaN         0.0     1011.7  \n",
       "3        NaN        NaN         NaN        NaN  \n",
       "4     1014.8        NaN         0.0     1011.3  "
      ]
     },
     "execution_count": 9,
     "metadata": {},
     "output_type": "execute_result"
    }
   ],
   "source": [
    "index_30min=pd.date_range('2016-04-01 00:30:00', periods=35231, freq='H')\n",
    "index_30min=index_30min.to_frame().rename(columns={0:'일시'})\n",
    "seosan2=pd.concat([seosan,index_30min],ignore_index=True)\n",
    "seosan2=seosan2.sort_values('일시').reset_index(drop=True)\n",
    "seosan2.head()"
   ]
  },
  {
   "cell_type": "markdown",
   "metadata": {},
   "source": [
    "### 30분단위 추가 후  기온, 습도, 이슬점온도 분류"
   ]
  },
  {
   "cell_type": "code",
   "execution_count": 10,
   "metadata": {},
   "outputs": [],
   "source": [
    "# 30분단위 추가 후  기온, 습도, 이슬점온도 분류\n",
    "seosan_hum2=seosan2[['일시','습도(%)']]\n",
    "seosan_hum2.columns=['일시','습도']\n",
    "seosan_dew2=seosan2[['일시','이슬점온도(°C)']]\n",
    "seosan_dew2.columns=['일시','이슬점온도']\n",
    "seosan_tem2=seosan2[['일시','기온(°C)']]\n",
    "seosan_tem2.columns=['일시','기온']\n",
    "#seosan_tem=seosan_tem.iloc[:26246]     # train 데이터 분리."
   ]
  },
  {
   "cell_type": "code",
   "execution_count": 11,
   "metadata": {},
   "outputs": [
    {
     "data": {
      "text/html": [
       "<div>\n",
       "<style scoped>\n",
       "    .dataframe tbody tr th:only-of-type {\n",
       "        vertical-align: middle;\n",
       "    }\n",
       "\n",
       "    .dataframe tbody tr th {\n",
       "        vertical-align: top;\n",
       "    }\n",
       "\n",
       "    .dataframe thead th {\n",
       "        text-align: right;\n",
       "    }\n",
       "</style>\n",
       "<table border=\"1\" class=\"dataframe\">\n",
       "  <thead>\n",
       "    <tr style=\"text-align: right;\">\n",
       "      <th></th>\n",
       "      <th>일시</th>\n",
       "      <th>기온</th>\n",
       "    </tr>\n",
       "  </thead>\n",
       "  <tbody>\n",
       "    <tr>\n",
       "      <td>0</td>\n",
       "      <td>2016-04-01 00:00:00</td>\n",
       "      <td>8.8</td>\n",
       "    </tr>\n",
       "    <tr>\n",
       "      <td>1</td>\n",
       "      <td>2016-04-01 00:30:00</td>\n",
       "      <td>NaN</td>\n",
       "    </tr>\n",
       "    <tr>\n",
       "      <td>2</td>\n",
       "      <td>2016-04-01 01:00:00</td>\n",
       "      <td>9.2</td>\n",
       "    </tr>\n",
       "    <tr>\n",
       "      <td>3</td>\n",
       "      <td>2016-04-01 01:30:00</td>\n",
       "      <td>NaN</td>\n",
       "    </tr>\n",
       "    <tr>\n",
       "      <td>4</td>\n",
       "      <td>2016-04-01 02:00:00</td>\n",
       "      <td>9.2</td>\n",
       "    </tr>\n",
       "  </tbody>\n",
       "</table>\n",
       "</div>"
      ],
      "text/plain": [
       "                   일시   기온\n",
       "0 2016-04-01 00:00:00  8.8\n",
       "1 2016-04-01 00:30:00  NaN\n",
       "2 2016-04-01 01:00:00  9.2\n",
       "3 2016-04-01 01:30:00  NaN\n",
       "4 2016-04-01 02:00:00  9.2"
      ]
     },
     "execution_count": 11,
     "metadata": {},
     "output_type": "execute_result"
    }
   ],
   "source": [
    "seosan_tem2.head()"
   ]
  },
  {
   "cell_type": "markdown",
   "metadata": {},
   "source": [
    "### 결측값 보간"
   ]
  },
  {
   "cell_type": "code",
   "execution_count": 12,
   "metadata": {},
   "outputs": [
    {
     "name": "stdout",
     "output_type": "stream",
     "text": [
      "기온 결측치: 일시    0\n",
      "기온    0\n",
      "dtype: int64\n",
      "습도 결측치: 일시    0\n",
      "습도    0\n",
      "dtype: int64\n",
      "이슬점온도 결측치: 일시       0\n",
      "이슬점온도    0\n",
      "dtype: int64\n"
     ]
    }
   ],
   "source": [
    "seosan_tem2=seosan_tem2.interpolate()\n",
    "seosan_hum2=seosan_hum2.interpolate()\n",
    "seosan_dew2=seosan_dew2.interpolate()\n",
    "print('기온 결측치:',seosan_tem2.isnull().sum())\n",
    "print('습도 결측치:',seosan_hum2.isnull().sum())\n",
    "print('이슬점온도 결측치:',seosan_dew2.isnull().sum())"
   ]
  },
  {
   "cell_type": "code",
   "execution_count": 13,
   "metadata": {},
   "outputs": [
    {
     "data": {
      "text/html": [
       "<div>\n",
       "<style scoped>\n",
       "    .dataframe tbody tr th:only-of-type {\n",
       "        vertical-align: middle;\n",
       "    }\n",
       "\n",
       "    .dataframe tbody tr th {\n",
       "        vertical-align: top;\n",
       "    }\n",
       "\n",
       "    .dataframe thead th {\n",
       "        text-align: right;\n",
       "    }\n",
       "</style>\n",
       "<table border=\"1\" class=\"dataframe\">\n",
       "  <thead>\n",
       "    <tr style=\"text-align: right;\">\n",
       "      <th></th>\n",
       "      <th>일시</th>\n",
       "      <th>기온</th>\n",
       "    </tr>\n",
       "  </thead>\n",
       "  <tbody>\n",
       "    <tr>\n",
       "      <td>0</td>\n",
       "      <td>2016-04-01 00:00:00</td>\n",
       "      <td>8.8</td>\n",
       "    </tr>\n",
       "    <tr>\n",
       "      <td>1</td>\n",
       "      <td>2016-04-01 00:30:00</td>\n",
       "      <td>9.0</td>\n",
       "    </tr>\n",
       "    <tr>\n",
       "      <td>2</td>\n",
       "      <td>2016-04-01 01:00:00</td>\n",
       "      <td>9.2</td>\n",
       "    </tr>\n",
       "    <tr>\n",
       "      <td>3</td>\n",
       "      <td>2016-04-01 01:30:00</td>\n",
       "      <td>9.2</td>\n",
       "    </tr>\n",
       "    <tr>\n",
       "      <td>4</td>\n",
       "      <td>2016-04-01 02:00:00</td>\n",
       "      <td>9.2</td>\n",
       "    </tr>\n",
       "  </tbody>\n",
       "</table>\n",
       "</div>"
      ],
      "text/plain": [
       "                   일시   기온\n",
       "0 2016-04-01 00:00:00  8.8\n",
       "1 2016-04-01 00:30:00  9.0\n",
       "2 2016-04-01 01:00:00  9.2\n",
       "3 2016-04-01 01:30:00  9.2\n",
       "4 2016-04-01 02:00:00  9.2"
      ]
     },
     "execution_count": 13,
     "metadata": {},
     "output_type": "execute_result"
    }
   ],
   "source": [
    "seosan_tem2.head()"
   ]
  },
  {
   "cell_type": "markdown",
   "metadata": {},
   "source": [
    "------------------------------------------------------------------------------------------------------------------------------------------------\n",
    "## ARIMA 모델\n",
    "\n",
    "#### 1) 500일 이전시점 train & predict \n",
    "* 시간대 4:30 인것만 500일 가져오기\n",
    "* 2019-04-01 04:30 이전 500일 데이터로 2019-04-02 04:30 과, 2019-04-03 04:30 값 예측"
   ]
  },
  {
   "cell_type": "code",
   "execution_count": 14,
   "metadata": {},
   "outputs": [
    {
     "data": {
      "text/html": [
       "<div>\n",
       "<style scoped>\n",
       "    .dataframe tbody tr th:only-of-type {\n",
       "        vertical-align: middle;\n",
       "    }\n",
       "\n",
       "    .dataframe tbody tr th {\n",
       "        vertical-align: top;\n",
       "    }\n",
       "\n",
       "    .dataframe thead th {\n",
       "        text-align: right;\n",
       "    }\n",
       "</style>\n",
       "<table border=\"1\" class=\"dataframe\">\n",
       "  <thead>\n",
       "    <tr style=\"text-align: right;\">\n",
       "      <th></th>\n",
       "      <th>일시</th>\n",
       "      <th>기온</th>\n",
       "    </tr>\n",
       "  </thead>\n",
       "  <tbody>\n",
       "    <tr>\n",
       "      <td>0</td>\n",
       "      <td>2016-04-01 04:30:00</td>\n",
       "      <td>4.20</td>\n",
       "    </tr>\n",
       "    <tr>\n",
       "      <td>1</td>\n",
       "      <td>2016-04-02 04:30:00</td>\n",
       "      <td>4.60</td>\n",
       "    </tr>\n",
       "    <tr>\n",
       "      <td>2</td>\n",
       "      <td>2016-04-03 04:30:00</td>\n",
       "      <td>8.90</td>\n",
       "    </tr>\n",
       "    <tr>\n",
       "      <td>3</td>\n",
       "      <td>2016-04-04 04:30:00</td>\n",
       "      <td>7.15</td>\n",
       "    </tr>\n",
       "    <tr>\n",
       "      <td>4</td>\n",
       "      <td>2016-04-05 04:30:00</td>\n",
       "      <td>1.50</td>\n",
       "    </tr>\n",
       "    <tr>\n",
       "      <td>...</td>\n",
       "      <td>...</td>\n",
       "      <td>...</td>\n",
       "    </tr>\n",
       "    <tr>\n",
       "      <td>1463</td>\n",
       "      <td>2020-04-03 04:30:00</td>\n",
       "      <td>1.55</td>\n",
       "    </tr>\n",
       "    <tr>\n",
       "      <td>1464</td>\n",
       "      <td>2020-04-04 04:30:00</td>\n",
       "      <td>6.05</td>\n",
       "    </tr>\n",
       "    <tr>\n",
       "      <td>1465</td>\n",
       "      <td>2020-04-05 04:30:00</td>\n",
       "      <td>4.10</td>\n",
       "    </tr>\n",
       "    <tr>\n",
       "      <td>1466</td>\n",
       "      <td>2020-04-06 04:30:00</td>\n",
       "      <td>-1.30</td>\n",
       "    </tr>\n",
       "    <tr>\n",
       "      <td>1467</td>\n",
       "      <td>2020-04-07 04:30:00</td>\n",
       "      <td>3.00</td>\n",
       "    </tr>\n",
       "  </tbody>\n",
       "</table>\n",
       "<p>1468 rows × 2 columns</p>\n",
       "</div>"
      ],
      "text/plain": [
       "                      일시    기온\n",
       "0    2016-04-01 04:30:00  4.20\n",
       "1    2016-04-02 04:30:00  4.60\n",
       "2    2016-04-03 04:30:00  8.90\n",
       "3    2016-04-04 04:30:00  7.15\n",
       "4    2016-04-05 04:30:00  1.50\n",
       "...                  ...   ...\n",
       "1463 2020-04-03 04:30:00  1.55\n",
       "1464 2020-04-04 04:30:00  6.05\n",
       "1465 2020-04-05 04:30:00  4.10\n",
       "1466 2020-04-06 04:30:00 -1.30\n",
       "1467 2020-04-07 04:30:00  3.00\n",
       "\n",
       "[1468 rows x 2 columns]"
      ]
     },
     "execution_count": 14,
     "metadata": {},
     "output_type": "execute_result"
    }
   ],
   "source": [
    "# 4시반 데이터만 일자별로 가져오기\n",
    "hour4_30=seosan_tem2[(seosan_tem2['일시'].apply(lambda x:x.hour)==4)]\n",
    "hour4_30=hour4_30[(hour4_30['일시'].apply(lambda x:x.minute)==30)].reset_index(drop=True)\n",
    "hour4_30"
   ]
  },
  {
   "cell_type": "code",
   "execution_count": 18,
   "metadata": {},
   "outputs": [
    {
     "data": {
      "text/html": [
       "<div>\n",
       "<style scoped>\n",
       "    .dataframe tbody tr th:only-of-type {\n",
       "        vertical-align: middle;\n",
       "    }\n",
       "\n",
       "    .dataframe tbody tr th {\n",
       "        vertical-align: top;\n",
       "    }\n",
       "\n",
       "    .dataframe thead th {\n",
       "        text-align: right;\n",
       "    }\n",
       "</style>\n",
       "<table border=\"1\" class=\"dataframe\">\n",
       "  <thead>\n",
       "    <tr style=\"text-align: right;\">\n",
       "      <th></th>\n",
       "      <th>기온</th>\n",
       "    </tr>\n",
       "    <tr>\n",
       "      <th>일시</th>\n",
       "      <th></th>\n",
       "    </tr>\n",
       "  </thead>\n",
       "  <tbody>\n",
       "    <tr>\n",
       "      <td>2017-11-18 04:30:00</td>\n",
       "      <td>1.30</td>\n",
       "    </tr>\n",
       "    <tr>\n",
       "      <td>2017-11-19 04:30:00</td>\n",
       "      <td>-2.05</td>\n",
       "    </tr>\n",
       "    <tr>\n",
       "      <td>2017-11-20 04:30:00</td>\n",
       "      <td>0.05</td>\n",
       "    </tr>\n",
       "    <tr>\n",
       "      <td>2017-11-21 04:30:00</td>\n",
       "      <td>-3.30</td>\n",
       "    </tr>\n",
       "    <tr>\n",
       "      <td>2017-11-22 04:30:00</td>\n",
       "      <td>2.00</td>\n",
       "    </tr>\n",
       "    <tr>\n",
       "      <td>...</td>\n",
       "      <td>...</td>\n",
       "    </tr>\n",
       "    <tr>\n",
       "      <td>2019-03-28 04:30:00</td>\n",
       "      <td>4.95</td>\n",
       "    </tr>\n",
       "    <tr>\n",
       "      <td>2019-03-29 04:30:00</td>\n",
       "      <td>5.75</td>\n",
       "    </tr>\n",
       "    <tr>\n",
       "      <td>2019-03-30 04:30:00</td>\n",
       "      <td>4.60</td>\n",
       "    </tr>\n",
       "    <tr>\n",
       "      <td>2019-03-31 04:30:00</td>\n",
       "      <td>3.75</td>\n",
       "    </tr>\n",
       "    <tr>\n",
       "      <td>2019-04-01 04:30:00</td>\n",
       "      <td>-1.20</td>\n",
       "    </tr>\n",
       "  </tbody>\n",
       "</table>\n",
       "<p>500 rows × 1 columns</p>\n",
       "</div>"
      ],
      "text/plain": [
       "                       기온\n",
       "일시                       \n",
       "2017-11-18 04:30:00  1.30\n",
       "2017-11-19 04:30:00 -2.05\n",
       "2017-11-20 04:30:00  0.05\n",
       "2017-11-21 04:30:00 -3.30\n",
       "2017-11-22 04:30:00  2.00\n",
       "...                   ...\n",
       "2019-03-28 04:30:00  4.95\n",
       "2019-03-29 04:30:00  5.75\n",
       "2019-03-30 04:30:00  4.60\n",
       "2019-03-31 04:30:00  3.75\n",
       "2019-04-01 04:30:00 -1.20\n",
       "\n",
       "[500 rows x 1 columns]"
      ]
     },
     "execution_count": 18,
     "metadata": {},
     "output_type": "execute_result"
    }
   ],
   "source": [
    "# 2019-04-01 4:30 포함해서 이전 500일\n",
    "### 2019-04-01 04:30 이전 500일 데이터로 두시점 이후 예측 (24h, 48h)\n",
    "day_500=hour4_30[1096-(500):1096].set_index('일시')\n",
    "day_500"
   ]
  },
  {
   "cell_type": "code",
   "execution_count": 38,
   "metadata": {},
   "outputs": [
    {
     "data": {
      "image/png": "[encoded data removed]",
      "text/plain": [
       "<Figure size 432x288 with 1 Axes>"
      ]
     },
     "metadata": {
      "needs_background": "light"
     },
     "output_type": "display_data"
    },
    {
     "data": {
      "image/png": "[encoded data removed]",
      "text/plain": [
       "<Figure size 432x288 with 1 Axes>"
      ]
     },
     "metadata": {
      "needs_background": "light"
     },
     "output_type": "display_data"
    },
    {
     "data": {
      "image/png": "[encoded data removed]",
      "text/plain": [
       "<Figure size 432x288 with 1 Axes>"
      ]
     },
     "metadata": {
      "needs_background": "light"
     },
     "output_type": "display_data"
    }
   ],
   "source": [
    "import matplotlib.pyplot as plt\n",
    "import pandas as pd\n",
    "from statsmodels.graphics.tsaplots import plot_acf, plot_pacf\n",
    "\n",
    "diff_1=day_500.diff(periods=1).iloc[1:]\n",
    "diff_1.plot()\n",
    "plot_acf(diff_1)\n",
    "plot_pacf(diff_1)\n",
    "plt.show()"
   ]
  },
  {
   "cell_type": "code",
   "execution_count": 44,
   "metadata": {},
   "outputs": [
    {
     "name": "stdout",
     "output_type": "stream",
     "text": [
      "Fit ARIMA: order=(1, 1, 1) seasonal_order=(0, 1, 1, 12); AIC=2623.654, BIC=2644.595, Fit time=2.208 seconds\n",
      "Fit ARIMA: order=(0, 1, 0) seasonal_order=(0, 1, 0, 12); AIC=3050.951, BIC=3059.328, Fit time=0.046 seconds\n",
      "Fit ARIMA: order=(1, 1, 0) seasonal_order=(1, 1, 0, 12); AIC=2859.719, BIC=2876.472, Fit time=0.780 seconds\n",
      "Fit ARIMA: order=(0, 1, 1) seasonal_order=(0, 1, 1, 12); AIC=2656.998, BIC=2673.751, Fit time=1.248 seconds\n",
      "Fit ARIMA: order=(1, 1, 1) seasonal_order=(1, 1, 1, 12); AIC=2623.629, BIC=2648.758, Fit time=1.770 seconds\n",
      "Fit ARIMA: order=(1, 1, 1) seasonal_order=(1, 1, 0, 12); AIC=2757.548, BIC=2778.489, Fit time=0.893 seconds\n",
      "Fit ARIMA: order=(1, 1, 1) seasonal_order=(1, 1, 2, 12); AIC=2621.507, BIC=2650.825, Fit time=7.035 seconds\n",
      "Fit ARIMA: order=(0, 1, 1) seasonal_order=(1, 1, 2, 12); AIC=2652.533, BIC=2677.663, Fit time=5.300 seconds\n",
      "Fit ARIMA: order=(2, 1, 1) seasonal_order=(1, 1, 2, 12); AIC=2616.998, BIC=2650.504, Fit time=8.002 seconds\n",
      "Fit ARIMA: order=(2, 1, 0) seasonal_order=(1, 1, 2, 12); AIC=2659.742, BIC=2689.060, Fit time=3.546 seconds\n",
      "Fit ARIMA: order=(2, 1, 2) seasonal_order=(1, 1, 2, 12); AIC=2618.561, BIC=2656.255, Fit time=8.311 seconds\n",
      "Fit ARIMA: order=(1, 1, 0) seasonal_order=(1, 1, 2, 12); AIC=2704.468, BIC=2729.598, Fit time=2.846 seconds\n",
      "Fit ARIMA: order=(3, 1, 2) seasonal_order=(1, 1, 2, 12); AIC=2620.569, BIC=2662.452, Fit time=9.934 seconds\n",
      "Fit ARIMA: order=(2, 1, 1) seasonal_order=(0, 1, 2, 12); AIC=2620.478, BIC=2649.795, Fit time=6.355 seconds\n",
      "Fit ARIMA: order=(2, 1, 1) seasonal_order=(2, 1, 2, 12); AIC=2618.727, BIC=2656.422, Fit time=8.925 seconds\n",
      "Fit ARIMA: order=(2, 1, 1) seasonal_order=(1, 1, 1, 12); AIC=2620.322, BIC=2649.640, Fit time=2.663 seconds\n",
      "Fit ARIMA: order=(2, 1, 1) seasonal_order=(0, 1, 1, 12); AIC=2620.292, BIC=2645.421, Fit time=2.776 seconds\n",
      "Fit ARIMA: order=(3, 1, 1) seasonal_order=(1, 1, 2, 12); AIC=2619.019, BIC=2656.713, Fit time=9.820 seconds\n",
      "Total fit time: 82.465 seconds\n",
      "2616.997841888845\n"
     ]
    }
   ],
   "source": [
    "from statsmodels.tsa.arima_model import ARIMA\n",
    "import pmdarima as pm\n",
    "from pyramid.arima import auto_arima\n",
    "stepwise_model = auto_arima(day_500, start_p=1, start_q=1,\n",
    "                           max_p=3, max_q=3, m=12,\n",
    "                           start_P=0, seasonal=True,\n",
    "                           d=1, D=1, trace=True,\n",
    "                           error_action='ignore',  \n",
    "                           suppress_warnings=True, \n",
    "                           stepwise=True)\n",
    "print(stepwise_model.aic())"
   ]
  },
  {
   "cell_type": "code",
   "execution_count": 45,
   "metadata": {},
   "outputs": [
    {
     "data": {
      "text/html": [
       "<table class=\"simpletable\">\n",
       "<caption>SARIMAX Results</caption>\n",
       "<tr>\n",
       "  <th>Dep. Variable:</th>                    <td>y</td>                  <th>  No. Observations:  </th>    <td>500</td>   \n",
       "</tr>\n",
       "<tr>\n",
       "  <th>Model:</th>           <td>SARIMAX(2, 1, 1)x(1, 1, [1, 2], 12)</td> <th>  Log Likelihood     </th> <td>-1300.499</td>\n",
       "</tr>\n",
       "<tr>\n",
       "  <th>Date:</th>                     <td>Wed, 03 Jun 2020</td>           <th>  AIC                </th> <td>2616.998</td> \n",
       "</tr>\n",
       "<tr>\n",
       "  <th>Time:</th>                         <td>20:55:43</td>               <th>  BIC                </th> <td>2650.504</td> \n",
       "</tr>\n",
       "<tr>\n",
       "  <th>Sample:</th>                           <td>0</td>                  <th>  HQIC               </th> <td>2630.160</td> \n",
       "</tr>\n",
       "<tr>\n",
       "  <th></th>                               <td> - 500</td>                <th>                     </th>     <td> </td>    \n",
       "</tr>\n",
       "<tr>\n",
       "  <th>Covariance Type:</th>                 <td>opg</td>                 <th>                     </th>     <td> </td>    \n",
       "</tr>\n",
       "</table>\n",
       "<table class=\"simpletable\">\n",
       "<tr>\n",
       "      <td></td>         <th>coef</th>     <th>std err</th>      <th>z</th>      <th>P>|z|</th>  <th>[0.025</th>    <th>0.975]</th>  \n",
       "</tr>\n",
       "<tr>\n",
       "  <th>intercept</th> <td>   -0.0044</td> <td>    0.005</td> <td>   -0.834</td> <td> 0.405</td> <td>   -0.015</td> <td>    0.006</td>\n",
       "</tr>\n",
       "<tr>\n",
       "  <th>ar.L1</th>     <td>    0.3293</td> <td>    0.059</td> <td>    5.554</td> <td> 0.000</td> <td>    0.213</td> <td>    0.446</td>\n",
       "</tr>\n",
       "<tr>\n",
       "  <th>ar.L2</th>     <td>   -0.1287</td> <td>    0.049</td> <td>   -2.648</td> <td> 0.008</td> <td>   -0.224</td> <td>   -0.033</td>\n",
       "</tr>\n",
       "<tr>\n",
       "  <th>ma.L1</th>     <td>   -0.7917</td> <td>    0.046</td> <td>  -17.041</td> <td> 0.000</td> <td>   -0.883</td> <td>   -0.701</td>\n",
       "</tr>\n",
       "<tr>\n",
       "  <th>ar.S.L12</th>  <td>   -0.9965</td> <td>    0.026</td> <td>  -38.229</td> <td> 0.000</td> <td>   -1.048</td> <td>   -0.945</td>\n",
       "</tr>\n",
       "<tr>\n",
       "  <th>ma.S.L12</th>  <td>   -0.0170</td> <td>   20.210</td> <td>   -0.001</td> <td> 0.999</td> <td>  -39.628</td> <td>   39.594</td>\n",
       "</tr>\n",
       "<tr>\n",
       "  <th>ma.S.L24</th>  <td>   -0.9829</td> <td>   19.865</td> <td>   -0.049</td> <td> 0.961</td> <td>  -39.917</td> <td>   37.952</td>\n",
       "</tr>\n",
       "<tr>\n",
       "  <th>sigma2</th>    <td>   10.9253</td> <td>  220.717</td> <td>    0.049</td> <td> 0.961</td> <td> -421.672</td> <td>  443.523</td>\n",
       "</tr>\n",
       "</table>\n",
       "<table class=\"simpletable\">\n",
       "<tr>\n",
       "  <th>Ljung-Box (Q):</th>          <td>35.87</td> <th>  Jarque-Bera (JB):  </th> <td>6.40</td>\n",
       "</tr>\n",
       "<tr>\n",
       "  <th>Prob(Q):</th>                <td>0.66</td>  <th>  Prob(JB):          </th> <td>0.04</td>\n",
       "</tr>\n",
       "<tr>\n",
       "  <th>Heteroskedasticity (H):</th> <td>1.05</td>  <th>  Skew:              </th> <td>0.27</td>\n",
       "</tr>\n",
       "<tr>\n",
       "  <th>Prob(H) (two-sided):</th>    <td>0.76</td>  <th>  Kurtosis:          </th> <td>3.17</td>\n",
       "</tr>\n",
       "</table><br/><br/>Warnings:<br/>[1] Covariance matrix calculated using the outer product of gradients (complex-step)."
      ],
      "text/plain": [
       "<class 'statsmodels.iolib.summary.Summary'>\n",
       "\"\"\"\n",
       "                                        SARIMAX Results                                        \n",
       "===============================================================================================\n",
       "Dep. Variable:                                       y   No. Observations:                  500\n",
       "Model:             SARIMAX(2, 1, 1)x(1, 1, [1, 2], 12)   Log Likelihood               -1300.499\n",
       "Date:                                 Wed, 03 Jun 2020   AIC                           2616.998\n",
       "Time:                                         20:55:43   BIC                           2650.504\n",
       "Sample:                                              0   HQIC                          2630.160\n",
       "                                                 - 500                                         \n",
       "Covariance Type:                                   opg                                         \n",
       "==============================================================================\n",
       "                 coef    std err          z      P>|z|      [0.025      0.975]\n",
       "------------------------------------------------------------------------------\n",
       "intercept     -0.0044      0.005     -0.834      0.405      -0.015       0.006\n",
       "ar.L1          0.3293      0.059      5.554      0.000       0.213       0.446\n",
       "ar.L2         -0.1287      0.049     -2.648      0.008      -0.224      -0.033\n",
       "ma.L1         -0.7917      0.046    -17.041      0.000      -0.883      -0.701\n",
       "ar.S.L12      -0.9965      0.026    -38.229      0.000      -1.048      -0.945\n",
       "ma.S.L12      -0.0170     20.210     -0.001      0.999     -39.628      39.594\n",
       "ma.S.L24      -0.9829     19.865     -0.049      0.961     -39.917      37.952\n",
       "sigma2        10.9253    220.717      0.049      0.961    -421.672     443.523\n",
       "===================================================================================\n",
       "Ljung-Box (Q):                       35.87   Jarque-Bera (JB):                 6.40\n",
       "Prob(Q):                              0.66   Prob(JB):                         0.04\n",
       "Heteroskedasticity (H):               1.05   Skew:                             0.27\n",
       "Prob(H) (two-sided):                  0.76   Kurtosis:                         3.17\n",
       "===================================================================================\n",
       "\n",
       "Warnings:\n",
       "[1] Covariance matrix calculated using the outer product of gradients (complex-step).\n",
       "\"\"\""
      ]
     },
     "execution_count": 45,
     "metadata": {},
     "output_type": "execute_result"
    }
   ],
   "source": [
    "stepwise_model.summary() "
   ]
  },
  {
   "cell_type": "code",
   "execution_count": 46,
   "metadata": {},
   "outputs": [
    {
     "name": "stdout",
     "output_type": "stream",
     "text": [
      "                             ARIMA Model Results                              \n",
      "==============================================================================\n",
      "Dep. Variable:                   D.기온   No. Observations:                  499\n",
      "Model:                 ARIMA(2, 1, 1)   Log Likelihood               -1311.164\n",
      "Method:                       css-mle   S.D. of innovations              3.347\n",
      "Date:                Wed, 03 Jun 2020   AIC                           2630.328\n",
      "Time:                        20:55:58   BIC                           2647.179\n",
      "Sample:                    11-19-2017   HQIC                          2636.941\n",
      "                         - 04-01-2019                                         \n",
      "==============================================================================\n",
      "                 coef    std err          z      P>|z|      [0.025      0.975]\n",
      "------------------------------------------------------------------------------\n",
      "ar.L1.D.기온     0.3543      0.060      5.904      0.000       0.237       0.472\n",
      "ar.L2.D.기온    -0.1194      0.051     -2.321      0.020      -0.220      -0.019\n",
      "ma.L1.D.기온    -0.7969      0.043    -18.426      0.000      -0.882      -0.712\n",
      "                                    Roots                                    \n",
      "=============================================================================\n",
      "                  Real          Imaginary           Modulus         Frequency\n",
      "-----------------------------------------------------------------------------\n",
      "AR.1            1.4837           -2.4847j            2.8939           -0.1643\n",
      "AR.2            1.4837           +2.4847j            2.8939            0.1643\n",
      "MA.1            1.2549           +0.0000j            1.2549            0.0000\n",
      "-----------------------------------------------------------------------------\n"
     ]
    }
   ],
   "source": [
    "from statsmodels.tsa.arima_model import ARIMA\n",
    "\n",
    "model = ARIMA(day_500, order=(2,1,1))\n",
    "model_fit = model.fit(trend='nc',full_output=True, disp=1)\n",
    "print(model_fit.summary())"
   ]
  },
  {
   "cell_type": "code",
   "execution_count": 47,
   "metadata": {},
   "outputs": [
    {
     "data": {
      "image/png": "[encoded data removed]",
      "text/plain": [
       "<Figure size 1584x576 with 1 Axes>"
      ]
     },
     "metadata": {
      "needs_background": "light"
     },
     "output_type": "display_data"
    }
   ],
   "source": [
    "fig,ax=plt.subplots()\n",
    "fig.set_size_inches(22,8)\n",
    "fig=model_fit.plot_predict(ax=ax)\n",
    "plt.show()"
   ]
  },
  {
   "cell_type": "code",
   "execution_count": 79,
   "metadata": {},
   "outputs": [
    {
     "name": "stdout",
     "output_type": "stream",
     "text": [
      "(array([1.2271246]), array([3.34666398]), array([[-5.33221626,  7.78646546]]))\n"
     ]
    }
   ],
   "source": [
    "# 예측값, stderr, upper bound, lower bound \n",
    "fore = model_fit.forecast(steps=1)\n",
    "print(fore)"
   ]
  },
  {
   "cell_type": "code",
   "execution_count": 44,
   "metadata": {},
   "outputs": [
    {
     "data": {
      "text/plain": [
       "[1.3386737534988942]"
      ]
     },
     "execution_count": 44,
     "metadata": {},
     "output_type": "execute_result"
    }
   ],
   "source": [
    "fore[0].tolist()"
   ]
  },
  {
   "cell_type": "code",
   "execution_count": 56,
   "metadata": {},
   "outputs": [
    {
     "data": {
      "text/plain": [
       "0    1.338674\n",
       "dtype: float64"
      ]
     },
     "execution_count": 56,
     "metadata": {},
     "output_type": "execute_result"
    }
   ],
   "source": [
    "pd.Series(fore[0])"
   ]
  },
  {
   "cell_type": "code",
   "execution_count": 43,
   "metadata": {},
   "outputs": [
    {
     "data": {
      "text/plain": [
       "array([  1.33867375, 100.        ])"
      ]
     },
     "execution_count": 43,
     "metadata": {},
     "output_type": "execute_result"
    }
   ],
   "source": [
    "#fore[0]\n",
    "arr=np.array([100])\n",
    "np.append(fore[0],arr)"
   ]
  },
  {
   "cell_type": "code",
   "execution_count": 49,
   "metadata": {},
   "outputs": [
    {
     "data": {
      "text/html": [
       "<div>\n",
       "<style scoped>\n",
       "    .dataframe tbody tr th:only-of-type {\n",
       "        vertical-align: middle;\n",
       "    }\n",
       "\n",
       "    .dataframe tbody tr th {\n",
       "        vertical-align: top;\n",
       "    }\n",
       "\n",
       "    .dataframe thead th {\n",
       "        text-align: right;\n",
       "    }\n",
       "</style>\n",
       "<table border=\"1\" class=\"dataframe\">\n",
       "  <thead>\n",
       "    <tr style=\"text-align: right;\">\n",
       "      <th></th>\n",
       "      <th>일시</th>\n",
       "      <th>기온</th>\n",
       "    </tr>\n",
       "  </thead>\n",
       "  <tbody>\n",
       "    <tr>\n",
       "      <th>596</th>\n",
       "      <td>2017-11-18 04:30:00</td>\n",
       "      <td>1.30</td>\n",
       "    </tr>\n",
       "    <tr>\n",
       "      <th>597</th>\n",
       "      <td>2017-11-19 04:30:00</td>\n",
       "      <td>-2.05</td>\n",
       "    </tr>\n",
       "    <tr>\n",
       "      <th>598</th>\n",
       "      <td>2017-11-20 04:30:00</td>\n",
       "      <td>0.05</td>\n",
       "    </tr>\n",
       "    <tr>\n",
       "      <th>599</th>\n",
       "      <td>2017-11-21 04:30:00</td>\n",
       "      <td>-3.30</td>\n",
       "    </tr>\n",
       "    <tr>\n",
       "      <th>600</th>\n",
       "      <td>2017-11-22 04:30:00</td>\n",
       "      <td>2.00</td>\n",
       "    </tr>\n",
       "    <tr>\n",
       "      <th>...</th>\n",
       "      <td>...</td>\n",
       "      <td>...</td>\n",
       "    </tr>\n",
       "    <tr>\n",
       "      <th>1093</th>\n",
       "      <td>2019-03-30 04:30:00</td>\n",
       "      <td>4.60</td>\n",
       "    </tr>\n",
       "    <tr>\n",
       "      <th>1094</th>\n",
       "      <td>2019-03-31 04:30:00</td>\n",
       "      <td>3.75</td>\n",
       "    </tr>\n",
       "    <tr>\n",
       "      <th>1095</th>\n",
       "      <td>2019-04-01 04:30:00</td>\n",
       "      <td>-1.20</td>\n",
       "    </tr>\n",
       "    <tr>\n",
       "      <th>1096</th>\n",
       "      <td>2019-04-02 04:30:00</td>\n",
       "      <td>-2.45</td>\n",
       "    </tr>\n",
       "    <tr>\n",
       "      <th>1097</th>\n",
       "      <td>2019-04-03 04:30:00</td>\n",
       "      <td>-1.30</td>\n",
       "    </tr>\n",
       "  </tbody>\n",
       "</table>\n",
       "<p>502 rows × 2 columns</p>\n",
       "</div>"
      ],
      "text/plain": [
       "                      일시    기온\n",
       "596  2017-11-18 04:30:00  1.30\n",
       "597  2017-11-19 04:30:00 -2.05\n",
       "598  2017-11-20 04:30:00  0.05\n",
       "599  2017-11-21 04:30:00 -3.30\n",
       "600  2017-11-22 04:30:00  2.00\n",
       "...                  ...   ...\n",
       "1093 2019-03-30 04:30:00  4.60\n",
       "1094 2019-03-31 04:30:00  3.75\n",
       "1095 2019-04-01 04:30:00 -1.20\n",
       "1096 2019-04-02 04:30:00 -2.45\n",
       "1097 2019-04-03 04:30:00 -1.30\n",
       "\n",
       "[502 rows x 2 columns]"
      ]
     },
     "execution_count": 49,
     "metadata": {},
     "output_type": "execute_result"
    }
   ],
   "source": [
    "# 2019-04-02 , 2019-04-03 04:30 데이터 예측값과 실제값 비교\n",
    "## 2019-04-02(04:30) ===> -2.45\n",
    "## 2019-04-03(04:30) ===> -1.30\n",
    "hour4_30[1096-(500):1098]"
   ]
  },
  {
   "cell_type": "markdown",
   "metadata": {},
   "source": [
    "#### 2) shifting해서 학습하고 하루하루씩 예측\n",
    "* 1 ~ 500으로 학습하고 501번째 예측한값이랑 2~501으로 학습하고 502번째 예측한값이랑.. 해서\n",
    "예측값들과 실제값간의 그래프 그리기"
   ]
  },
  {
   "cell_type": "code",
   "execution_count": 61,
   "metadata": {},
   "outputs": [
    {
     "name": "stdout",
     "output_type": "stream",
     "text": [
      "0    0\n",
      "dtype: int64\n",
      "0    2\n",
      "dtype: int64\n",
      "0    4\n",
      "dtype: int64\n",
      "0    6\n",
      "dtype: int64\n",
      "0    8\n",
      "dtype: int64\n"
     ]
    }
   ],
   "source": [
    "# series에 array 를 append\n",
    "ser=pd.Series()\n",
    "for i in range(5):\n",
    "    result=pd.Series(np.array([i*2]))\n",
    "    np.append(ser,result)\n",
    "    print(result)"
   ]
  },
  {
   "cell_type": "code",
   "execution_count": 95,
   "metadata": {},
   "outputs": [
    {
     "name": "stdout",
     "output_type": "stream",
     "text": [
      "[0]\n",
      "[2]\n",
      "[4]\n",
      "[6]\n",
      "[8]\n"
     ]
    }
   ],
   "source": [
    "# array 와 array를 append할경우.\n",
    "arr=np.array([])\n",
    "for i in range(5):\n",
    "    result=np.array([i*2])\n",
    "    np.append(arr,result)\n",
    "    print(result)"
   ]
  },
  {
   "cell_type": "code",
   "execution_count": 72,
   "metadata": {},
   "outputs": [
    {
     "name": "stdout",
     "output_type": "stream",
     "text": [
      "[array([0]), array([2]), array([4]), array([6]), array([8])]\n"
     ]
    }
   ],
   "source": [
    "# list에 array를 append할경우\n",
    "list=[]\n",
    "for i in range(5):\n",
    "   # result=np.array([i*2]).tolist()\n",
    "    result=np.array([i*2])\n",
    "    list.append(result)\n",
    "print(list)"
   ]
  },
  {
   "cell_type": "code",
   "execution_count": 73,
   "metadata": {},
   "outputs": [
    {
     "name": "stdout",
     "output_type": "stream",
     "text": [
      "[[0], [2], [4], [6], [8]]\n"
     ]
    }
   ],
   "source": [
    "# list에 list를 append할경우\n",
    "list=[]\n",
    "for i in range(5):\n",
    "    result=np.array([i*2]).tolist()\n",
    "    list.append(result)\n",
    "print(list)"
   ]
  },
  {
   "cell_type": "code",
   "execution_count": 141,
   "metadata": {},
   "outputs": [
    {
     "data": {
      "text/html": [
       "<div>\n",
       "<style scoped>\n",
       "    .dataframe tbody tr th:only-of-type {\n",
       "        vertical-align: middle;\n",
       "    }\n",
       "\n",
       "    .dataframe tbody tr th {\n",
       "        vertical-align: top;\n",
       "    }\n",
       "\n",
       "    .dataframe thead th {\n",
       "        text-align: right;\n",
       "    }\n",
       "</style>\n",
       "<table border=\"1\" class=\"dataframe\">\n",
       "  <thead>\n",
       "    <tr style=\"text-align: right;\">\n",
       "      <th></th>\n",
       "      <th>일시</th>\n",
       "      <th>기온</th>\n",
       "    </tr>\n",
       "  </thead>\n",
       "  <tbody>\n",
       "    <tr>\n",
       "      <th>0</th>\n",
       "      <td>2016-04-01 04:30:00</td>\n",
       "      <td>4.20</td>\n",
       "    </tr>\n",
       "    <tr>\n",
       "      <th>1</th>\n",
       "      <td>2016-04-02 04:30:00</td>\n",
       "      <td>4.60</td>\n",
       "    </tr>\n",
       "    <tr>\n",
       "      <th>2</th>\n",
       "      <td>2016-04-03 04:30:00</td>\n",
       "      <td>8.90</td>\n",
       "    </tr>\n",
       "    <tr>\n",
       "      <th>3</th>\n",
       "      <td>2016-04-04 04:30:00</td>\n",
       "      <td>7.15</td>\n",
       "    </tr>\n",
       "    <tr>\n",
       "      <th>4</th>\n",
       "      <td>2016-04-05 04:30:00</td>\n",
       "      <td>1.50</td>\n",
       "    </tr>\n",
       "    <tr>\n",
       "      <th>...</th>\n",
       "      <td>...</td>\n",
       "      <td>...</td>\n",
       "    </tr>\n",
       "    <tr>\n",
       "      <th>1463</th>\n",
       "      <td>2020-04-03 04:30:00</td>\n",
       "      <td>1.55</td>\n",
       "    </tr>\n",
       "    <tr>\n",
       "      <th>1464</th>\n",
       "      <td>2020-04-04 04:30:00</td>\n",
       "      <td>6.05</td>\n",
       "    </tr>\n",
       "    <tr>\n",
       "      <th>1465</th>\n",
       "      <td>2020-04-05 04:30:00</td>\n",
       "      <td>4.10</td>\n",
       "    </tr>\n",
       "    <tr>\n",
       "      <th>1466</th>\n",
       "      <td>2020-04-06 04:30:00</td>\n",
       "      <td>-1.30</td>\n",
       "    </tr>\n",
       "    <tr>\n",
       "      <th>1467</th>\n",
       "      <td>2020-04-07 04:30:00</td>\n",
       "      <td>3.00</td>\n",
       "    </tr>\n",
       "  </tbody>\n",
       "</table>\n",
       "<p>1468 rows × 2 columns</p>\n",
       "</div>"
      ],
      "text/plain": [
       "                      일시    기온\n",
       "0    2016-04-01 04:30:00  4.20\n",
       "1    2016-04-02 04:30:00  4.60\n",
       "2    2016-04-03 04:30:00  8.90\n",
       "3    2016-04-04 04:30:00  7.15\n",
       "4    2016-04-05 04:30:00  1.50\n",
       "...                  ...   ...\n",
       "1463 2020-04-03 04:30:00  1.55\n",
       "1464 2020-04-04 04:30:00  6.05\n",
       "1465 2020-04-05 04:30:00  4.10\n",
       "1466 2020-04-06 04:30:00 -1.30\n",
       "1467 2020-04-07 04:30:00  3.00\n",
       "\n",
       "[1468 rows x 2 columns]"
      ]
     },
     "execution_count": 141,
     "metadata": {},
     "output_type": "execute_result"
    }
   ],
   "source": [
    "# train = 1000\n",
    "# test= 1468-1000=468\n",
    "hour4_30=seosan_tem2[(seosan_tem2['일시'].apply(lambda x:x.hour)==4)]\n",
    "hour4_30=hour4_30[(hour4_30['일시'].apply(lambda x:x.minute)==30)].reset_index(drop=True)\n",
    "hour4_30"
   ]
  },
  {
   "cell_type": "code",
   "execution_count": null,
   "metadata": {},
   "outputs": [],
   "source": [
    "start = len(train)   # 950\n",
    "end = len(train) + len(test) - 1    # 999\n",
    "  \n",
    "# Predictions for one-year against the test set \n",
    "predictions = result.predict(start, end, \n",
    "                             typ = 'levels').rename(\"Predictions\") \n",
    "  \n",
    "# plot predictions and actual values \n",
    "predictions.plot(legend = True) \n",
    "test['기온'].plot(legend = True)\n",
    "plt.show()"
   ]
  },
  {
   "cell_type": "markdown",
   "metadata": {},
   "source": [
    "#### 예시 테스트용 코드\n",
    "* list에 array값을 append한결과\n",
    "    * [array([23.95573504]), array([22.79908278]), array([23.09846874]),...."
   ]
  },
  {
   "cell_type": "code",
   "execution_count": 23,
   "metadata": {},
   "outputs": [
    {
     "data": {
      "text/plain": [
       "[0, 1, 2, 3, 4]"
      ]
     },
     "execution_count": 23,
     "metadata": {},
     "output_type": "execute_result"
    }
   ],
   "source": [
    "list(range(0,5))"
   ]
  },
  {
   "cell_type": "code",
   "execution_count": 34,
   "metadata": {},
   "outputs": [
    {
     "data": {
      "text/plain": [
       "1468"
      ]
     },
     "execution_count": 34,
     "metadata": {},
     "output_type": "execute_result"
    }
   ],
   "source": [
    "hour4_30.shape[0]"
   ]
  },
  {
   "cell_type": "code",
   "execution_count": 27,
   "metadata": {},
   "outputs": [
    {
     "data": {
      "text/plain": [
       "968"
      ]
     },
     "execution_count": 27,
     "metadata": {},
     "output_type": "execute_result"
    }
   ],
   "source": [
    "hour4_30.shape[0]-500"
   ]
  },
  {
   "cell_type": "code",
   "execution_count": null,
   "metadata": {},
   "outputs": [],
   "source": [
    "# period=500\n",
    "# for i in range(0, hour4_30.shape[0]-500):   # i = 0~1467 (총1468이지만 그전까지 예측해야하므로)\n",
    "#     train=hour4_30.iloc[ i: period+i].set_index('일시')  # train= 0~500, 1~501, 2~502 ...(1467-500)=967~1467\n",
    "#     test=hour4_30.iloc[period+i+1]  # 501,502,503,,,,1468\n",
    "#     model = ARIMA(train, order=(2,1,1))\n",
    "#     model_fit = model.fit(trend='nc',full_output=True, disp=1)"
   ]
  },
  {
   "cell_type": "code",
   "execution_count": 99,
   "metadata": {},
   "outputs": [
    {
     "data": {
      "text/plain": [
       "80"
      ]
     },
     "execution_count": 99,
     "metadata": {},
     "output_type": "execute_result"
    }
   ],
   "source": [
    "hour4_30[:100].shape[0]-20"
   ]
  },
  {
   "cell_type": "code",
   "execution_count": 134,
   "metadata": {},
   "outputs": [
    {
     "data": {
      "image/png": "[encoded data removed]",
      "text/plain": [
       "<Figure size 432x288 with 1 Axes>"
      ]
     },
     "metadata": {
      "needs_background": "light"
     },
     "output_type": "display_data"
    },
    {
     "name": "stdout",
     "output_type": "stream",
     "text": [
      "[11.4, 10.850000000000001, 8.95, 5.4, 6.8, 10.95, 13.95, 11.85, 7.8999999999999995, 10.35, 11.25, 14.7, 18.1, 12.55, 7.65, 15.9, 8.2, 8.65, 13.0, 13.85, 11.75, 12.0, 12.4, 12.399999999999999, 14.1, 10.5, 9.45, 12.6, 15.15, 13.100000000000001, 14.85, 15.2, 14.0, 17.8, 15.850000000000001, 16.5, 15.5, 15.75, 16.05, 14.6, 15.75, 16.75, 15.45, 16.1, 18.1, 16.1, 17.35, 17.25, 17.85, 15.65, 16.950000000000003, 20.5, 21.0, 18.35, 18.15, 19.65, 18.4, 17.799999999999997, 18.35, 19.95, 19.3, 19.95, 20.85, 20.0, 21.200000000000003, 18.6, 16.4, 17.35, 18.45, 21.05, 21.9, 23.3, 20.9, 20.799999999999997, 21.049999999999997, 24.45, 20.9, 20.35, 21.1, 21.5]\n"
     ]
    }
   ],
   "source": [
    "############################################################################## 테스트용\n",
    "from statsmodels.tsa.arima_model import ARIMA\n",
    "hour4_30=seosan_tem2[(seosan_tem2['일시'].apply(lambda x:x.hour)==4)]\n",
    "hour4_30=hour4_30[(hour4_30['일시'].apply(lambda x:x.minute)==30)].reset_index(drop=True)\n",
    "\n",
    "list=[]\n",
    "test_list=[]\n",
    "period=20\n",
    "for i in range(0, hour4_30[:100].shape[0]-20):   # i = 0~968 (총1468이지만 그전까지 예측해야하므로)\n",
    "    train=hour4_30[:100].iloc[ i: period+i].set_index('일시')  # train= 0~500, 1~501, 2~502 ...(1467-500)=967~1467\n",
    "    test=hour4_30[:100].iloc[period+i]['기온']  # 501,502,503,,,,1468\n",
    "    model = ARIMA(train, order=(0,0,1))\n",
    "    model_fit = model.fit(trend='nc',full_output=True, disp=1)\n",
    "    fore = model_fit.forecast(steps=1)\n",
    "    list.append(fore[0])\n",
    "    test_list.append(test)\n",
    "    \n",
    "plt.plot(list)\n",
    "plt.plot(test_list)\n",
    "plt.show()\n",
    "\n",
    "print(test_list)"
   ]
  },
  {
   "cell_type": "code",
   "execution_count": null,
   "metadata": {},
   "outputs": [],
   "source": [
    "############################################## 실제 돌릴 코드\n",
    "from statsmodels.tsa.arima_model import ARIMA\n",
    "# i = 500,501,502,,,,1468\n",
    "hour4_30=seosan_tem2[(seosan_tem2['일시'].apply(lambda x:x.hour)==4)]\n",
    "hour4_30=hour4_30[(hour4_30['일시'].apply(lambda x:x.minute)==30)].reset_index(drop=True)\n",
    "\n",
    "list=[]\n",
    "test_list=[]\n",
    "period=500\n",
    "for i in range(0, hour4_30.shape[0]-500):   # i = 0~968 (총1468이지만 그전까지 예측해야하므로)\n",
    "    train=hour4_30.iloc[ i: period+i].set_index('일시')  # train= 0~500, 1~501, 2~502 ...(1467-500)=967~1467\n",
    "    test=hour4_30.iloc[period+i]['기온']  # 501,502,503,,,,1468\n",
    "    model = ARIMA(train, order=(2,1,1))\n",
    "    model_fit = model.fit(trend='nc',full_output=True, disp=1)\n",
    "    fore = model_fit.forecast(steps=1)\n",
    "    \n",
    "    list.append(fore[0])    # 예측값\n",
    "    test_list.append(test)    # 실제값\n",
    "\n",
    "# prediction plot 과 실제값(test) plot 그리기.\n",
    "plt.plot(list)\n",
    "plt.plot(test_list)\n",
    "plt.show()\n",
    "print(result)\n"
   ]
  },
  {
   "cell_type": "markdown",
   "metadata": {},
   "source": [
    "#### 실제 돌릴 코드"
   ]
  },
  {
   "cell_type": "code",
   "execution_count": 136,
   "metadata": {},
   "outputs": [
    {
     "name": "stdout",
     "output_type": "stream",
     "text": [
      "[23.95573506]\n",
      "[22.79908282]\n",
      "[23.09846889]\n",
      "[23.63865057]\n",
      "[23.20518575]\n",
      "[22.48288647]\n",
      "[22.60716117]\n",
      "[22.92923989]\n",
      "[23.26863666]\n",
      "[23.36809597]\n",
      "[24.50280119]\n",
      "[25.44544404]\n",
      "[22.84624499]\n",
      "[21.63532951]\n",
      "[20.62641672]\n",
      "[19.98705367]\n",
      "[20.11003951]\n",
      "[19.2032883]\n",
      "[18.19201728]\n",
      "[18.37651794]\n",
      "[17.99785609]\n",
      "[17.68326415]\n",
      "[18.60234072]\n",
      "[18.72467189]\n",
      "[19.16538713]\n",
      "[18.32072]\n",
      "[18.79365362]\n",
      "[18.76170895]\n",
      "[18.35067382]\n",
      "[18.71992528]\n",
      "[17.28132861]\n",
      "[16.16411052]\n",
      "[15.30311971]\n",
      "[17.11109756]\n",
      "[16.9597592]\n",
      "[17.71161515]\n",
      "[16.11421737]\n",
      "[18.22318536]\n",
      "[17.02614285]\n",
      "[14.81228538]\n",
      "[14.64035887]\n",
      "[15.77365644]\n",
      "[18.56554596]\n",
      "[18.23427512]\n",
      "[17.88430748]\n",
      "[17.09143361]\n",
      "[18.37902287]\n",
      "[13.61079099]\n",
      "[13.53477221]\n",
      "[15.21394279]\n",
      "[15.38275827]\n",
      "[14.81564678]\n",
      "[13.21924768]\n",
      "[13.03534939]\n",
      "[14.3789878]\n",
      "[14.06878913]\n",
      "[15.31139381]\n",
      "[15.76014816]\n",
      "[16.23962989]\n",
      "[16.17215019]\n",
      "[14.19617361]\n",
      "[10.46815151]\n",
      "[10.12380628]\n",
      "[11.00266266]\n",
      "[12.8306558]\n",
      "[10.43989318]\n",
      "[13.73033195]\n",
      "[12.08511355]\n",
      "[11.00984827]\n",
      "[11.5241313]\n",
      "[11.30816397]\n",
      "[11.08833851]\n",
      "[9.17312467]\n",
      "[8.53201271]\n",
      "[8.76024877]\n",
      "[10.80153909]\n",
      "[10.83719671]\n",
      "[10.7199002]\n",
      "[8.07339222]\n",
      "[5.31351452]\n",
      "[8.99297188]\n",
      "[10.150761]\n",
      "[9.7406429]\n",
      "[7.91595203]\n",
      "[4.88268443]\n",
      "[5.3986944]\n",
      "[6.17197092]\n",
      "[9.94438747]\n",
      "[4.72464151]\n",
      "[5.2319512]\n",
      "[6.64159014]\n",
      "[2.72254823]\n",
      "[3.85996081]\n",
      "[6.50606426]\n",
      "[6.03329489]\n",
      "[2.7267926]\n",
      "[2.39379231]\n",
      "[2.55606939]\n",
      "[0.54399201]\n",
      "[1.15453727]\n",
      "[-0.86068051]\n",
      "[1.37067756]\n",
      "[0.37283288]\n",
      "[0.50288302]\n",
      "[-0.67929077]\n",
      "[2.96455063]\n",
      "[-0.81951781]\n",
      "[0.06685326]\n",
      "[3.97072655]\n",
      "[0.60561024]\n",
      "[-0.78014917]\n",
      "[-1.0744929]\n",
      "[2.42755765]\n",
      "[2.39611662]\n",
      "[-0.71713565]\n",
      "[0.25986481]\n",
      "[1.54454501]\n",
      "[-0.32379535]\n",
      "[-0.37376795]\n",
      "[0.76967869]\n",
      "[-0.69945603]\n",
      "[-2.60019104]\n",
      "[-3.8385435]\n",
      "[-5.98229105]\n",
      "[-6.01153149]\n"
     ]
    },
    {
     "ename": "KeyboardInterrupt",
     "evalue": "",
     "output_type": "error",
     "traceback": [
      "\u001b[0;31m---------------------------------------------------------------------------\u001b[0m",
      "\u001b[0;31mKeyboardInterrupt\u001b[0m                         Traceback (most recent call last)",
      "\u001b[0;32m<ipython-input-136-0c5ab716d6ac>\u001b[0m in \u001b[0;36m<module>\u001b[0;34m\u001b[0m\n\u001b[1;32m      7\u001b[0m     \u001b[0mtrain\u001b[0m\u001b[0;34m=\u001b[0m\u001b[0mhour4_30\u001b[0m\u001b[0;34m.\u001b[0m\u001b[0miloc\u001b[0m\u001b[0;34m[\u001b[0m \u001b[0;34m(\u001b[0m\u001b[0mi\u001b[0m\u001b[0;34m-\u001b[0m\u001b[0;36m500\u001b[0m\u001b[0;34m)\u001b[0m \u001b[0;34m:\u001b[0m \u001b[0mi\u001b[0m \u001b[0;34m]\u001b[0m\u001b[0;34m.\u001b[0m\u001b[0mset_index\u001b[0m\u001b[0;34m(\u001b[0m\u001b[0;34m'일시'\u001b[0m\u001b[0;34m)\u001b[0m\u001b[0;34m\u001b[0m\u001b[0;34m\u001b[0m\u001b[0m\n\u001b[1;32m      8\u001b[0m     \u001b[0mmodel\u001b[0m \u001b[0;34m=\u001b[0m \u001b[0mARIMA\u001b[0m\u001b[0;34m(\u001b[0m\u001b[0mtrain\u001b[0m\u001b[0;34m,\u001b[0m \u001b[0morder\u001b[0m\u001b[0;34m=\u001b[0m\u001b[0;34m(\u001b[0m\u001b[0;36m2\u001b[0m\u001b[0;34m,\u001b[0m\u001b[0;36m1\u001b[0m\u001b[0;34m,\u001b[0m\u001b[0;36m1\u001b[0m\u001b[0;34m)\u001b[0m\u001b[0;34m)\u001b[0m\u001b[0;34m\u001b[0m\u001b[0;34m\u001b[0m\u001b[0m\n\u001b[0;32m----> 9\u001b[0;31m     \u001b[0mmodel_fit\u001b[0m \u001b[0;34m=\u001b[0m \u001b[0mmodel\u001b[0m\u001b[0;34m.\u001b[0m\u001b[0mfit\u001b[0m\u001b[0;34m(\u001b[0m\u001b[0mtrend\u001b[0m\u001b[0;34m=\u001b[0m\u001b[0;34m'nc'\u001b[0m\u001b[0;34m,\u001b[0m\u001b[0mfull_output\u001b[0m\u001b[0;34m=\u001b[0m\u001b[0;32mTrue\u001b[0m\u001b[0;34m,\u001b[0m \u001b[0mdisp\u001b[0m\u001b[0;34m=\u001b[0m\u001b[0;36m1\u001b[0m\u001b[0;34m)\u001b[0m\u001b[0;34m\u001b[0m\u001b[0;34m\u001b[0m\u001b[0m\n\u001b[0m\u001b[1;32m     10\u001b[0m     \u001b[0mfore\u001b[0m \u001b[0;34m=\u001b[0m \u001b[0mmodel_fit\u001b[0m\u001b[0;34m.\u001b[0m\u001b[0mforecast\u001b[0m\u001b[0;34m(\u001b[0m\u001b[0msteps\u001b[0m\u001b[0;34m=\u001b[0m\u001b[0;36m1\u001b[0m\u001b[0;34m)\u001b[0m\u001b[0;34m\u001b[0m\u001b[0;34m\u001b[0m\u001b[0m\n\u001b[1;32m     11\u001b[0m \u001b[0;34m\u001b[0m\u001b[0m\n",
      "\u001b[0;32m~/anaconda3/envs/suhyun2/lib/python3.6/site-packages/statsmodels/tsa/arima_model.py\u001b[0m in \u001b[0;36mfit\u001b[0;34m(self, start_params, trend, method, transparams, solver, maxiter, full_output, disp, callback, start_ar_lags, **kwargs)\u001b[0m\n\u001b[1;32m   1198\u001b[0m                                         \u001b[0mmethod\u001b[0m\u001b[0;34m,\u001b[0m \u001b[0mtransparams\u001b[0m\u001b[0;34m,\u001b[0m \u001b[0msolver\u001b[0m\u001b[0;34m,\u001b[0m\u001b[0;34m\u001b[0m\u001b[0;34m\u001b[0m\u001b[0m\n\u001b[1;32m   1199\u001b[0m                                         \u001b[0mmaxiter\u001b[0m\u001b[0;34m,\u001b[0m \u001b[0mfull_output\u001b[0m\u001b[0;34m,\u001b[0m \u001b[0mdisp\u001b[0m\u001b[0;34m,\u001b[0m\u001b[0;34m\u001b[0m\u001b[0;34m\u001b[0m\u001b[0m\n\u001b[0;32m-> 1200\u001b[0;31m                                         callback, start_ar_lags, **kwargs)\n\u001b[0m\u001b[1;32m   1201\u001b[0m         \u001b[0mnormalized_cov_params\u001b[0m \u001b[0;34m=\u001b[0m \u001b[0;32mNone\u001b[0m  \u001b[0;31m# TODO: fix this?\u001b[0m\u001b[0;34m\u001b[0m\u001b[0;34m\u001b[0m\u001b[0m\n\u001b[1;32m   1202\u001b[0m         arima_fit = ARIMAResults(self, mlefit._results.params,\n",
      "\u001b[0;32m~/anaconda3/envs/suhyun2/lib/python3.6/site-packages/statsmodels/tsa/arima_model.py\u001b[0m in \u001b[0;36mfit\u001b[0;34m(self, start_params, trend, method, transparams, solver, maxiter, full_output, disp, callback, start_ar_lags, **kwargs)\u001b[0m\n\u001b[1;32m    997\u001b[0m                                        \u001b[0mmaxiter\u001b[0m\u001b[0;34m=\u001b[0m\u001b[0mmaxiter\u001b[0m\u001b[0;34m,\u001b[0m\u001b[0;34m\u001b[0m\u001b[0;34m\u001b[0m\u001b[0m\n\u001b[1;32m    998\u001b[0m                                        \u001b[0mfull_output\u001b[0m\u001b[0;34m=\u001b[0m\u001b[0mfull_output\u001b[0m\u001b[0;34m,\u001b[0m \u001b[0mdisp\u001b[0m\u001b[0;34m=\u001b[0m\u001b[0mdisp\u001b[0m\u001b[0;34m,\u001b[0m\u001b[0;34m\u001b[0m\u001b[0;34m\u001b[0m\u001b[0m\n\u001b[0;32m--> 999\u001b[0;31m                                        callback=callback, **kwargs)\n\u001b[0m\u001b[1;32m   1000\u001b[0m         \u001b[0mparams\u001b[0m \u001b[0;34m=\u001b[0m \u001b[0mmlefit\u001b[0m\u001b[0;34m.\u001b[0m\u001b[0mparams\u001b[0m\u001b[0;34m\u001b[0m\u001b[0;34m\u001b[0m\u001b[0m\n\u001b[1;32m   1001\u001b[0m \u001b[0;34m\u001b[0m\u001b[0m\n",
      "\u001b[0;32m~/anaconda3/envs/suhyun2/lib/python3.6/site-packages/statsmodels/base/model.py\u001b[0m in \u001b[0;36mfit\u001b[0;34m(self, start_params, method, maxiter, full_output, disp, fargs, callback, retall, skip_hessian, **kwargs)\u001b[0m\n\u001b[1;32m    533\u001b[0m             \u001b[0mHinv\u001b[0m \u001b[0;34m=\u001b[0m \u001b[0mnp\u001b[0m\u001b[0;34m.\u001b[0m\u001b[0mlinalg\u001b[0m\u001b[0;34m.\u001b[0m\u001b[0minv\u001b[0m\u001b[0;34m(\u001b[0m\u001b[0;34m-\u001b[0m\u001b[0mretvals\u001b[0m\u001b[0;34m[\u001b[0m\u001b[0;34m'Hessian'\u001b[0m\u001b[0;34m]\u001b[0m\u001b[0;34m)\u001b[0m \u001b[0;34m/\u001b[0m \u001b[0mnobs\u001b[0m\u001b[0;34m\u001b[0m\u001b[0;34m\u001b[0m\u001b[0m\n\u001b[1;32m    534\u001b[0m         \u001b[0;32melif\u001b[0m \u001b[0;32mnot\u001b[0m \u001b[0mskip_hessian\u001b[0m\u001b[0;34m:\u001b[0m\u001b[0;34m\u001b[0m\u001b[0;34m\u001b[0m\u001b[0m\n\u001b[0;32m--> 535\u001b[0;31m             \u001b[0mH\u001b[0m \u001b[0;34m=\u001b[0m \u001b[0;34m-\u001b[0m\u001b[0;36m1\u001b[0m \u001b[0;34m*\u001b[0m \u001b[0mself\u001b[0m\u001b[0;34m.\u001b[0m\u001b[0mhessian\u001b[0m\u001b[0;34m(\u001b[0m\u001b[0mxopt\u001b[0m\u001b[0;34m)\u001b[0m\u001b[0;34m\u001b[0m\u001b[0;34m\u001b[0m\u001b[0m\n\u001b[0m\u001b[1;32m    536\u001b[0m             \u001b[0minvertible\u001b[0m \u001b[0;34m=\u001b[0m \u001b[0;32mFalse\u001b[0m\u001b[0;34m\u001b[0m\u001b[0;34m\u001b[0m\u001b[0m\n\u001b[1;32m    537\u001b[0m             \u001b[0;32mif\u001b[0m \u001b[0mnp\u001b[0m\u001b[0;34m.\u001b[0m\u001b[0mall\u001b[0m\u001b[0;34m(\u001b[0m\u001b[0mnp\u001b[0m\u001b[0;34m.\u001b[0m\u001b[0misfinite\u001b[0m\u001b[0;34m(\u001b[0m\u001b[0mH\u001b[0m\u001b[0;34m)\u001b[0m\u001b[0;34m)\u001b[0m\u001b[0;34m:\u001b[0m\u001b[0;34m\u001b[0m\u001b[0;34m\u001b[0m\u001b[0m\n",
      "\u001b[0;32m~/anaconda3/envs/suhyun2/lib/python3.6/site-packages/statsmodels/tsa/arima_model.py\u001b[0m in \u001b[0;36mhessian\u001b[0;34m(self, params)\u001b[0m\n\u001b[1;32m    606\u001b[0m         \u001b[0mThis\u001b[0m \u001b[0;32mis\u001b[0m \u001b[0ma\u001b[0m \u001b[0mnumerical\u001b[0m \u001b[0mapproximation\u001b[0m\u001b[0;34m.\u001b[0m\u001b[0;34m\u001b[0m\u001b[0;34m\u001b[0m\u001b[0m\n\u001b[1;32m    607\u001b[0m         \"\"\"\n\u001b[0;32m--> 608\u001b[0;31m         \u001b[0;32mreturn\u001b[0m \u001b[0mapprox_hess_cs\u001b[0m\u001b[0;34m(\u001b[0m\u001b[0mparams\u001b[0m\u001b[0;34m,\u001b[0m \u001b[0mself\u001b[0m\u001b[0;34m.\u001b[0m\u001b[0mloglike\u001b[0m\u001b[0;34m,\u001b[0m \u001b[0margs\u001b[0m\u001b[0;34m=\u001b[0m\u001b[0;34m(\u001b[0m\u001b[0;32mFalse\u001b[0m\u001b[0;34m,\u001b[0m\u001b[0;34m)\u001b[0m\u001b[0;34m)\u001b[0m\u001b[0;34m\u001b[0m\u001b[0;34m\u001b[0m\u001b[0m\n\u001b[0m\u001b[1;32m    609\u001b[0m \u001b[0;34m\u001b[0m\u001b[0m\n\u001b[1;32m    610\u001b[0m     \u001b[0;32mdef\u001b[0m \u001b[0m_transparams\u001b[0m\u001b[0;34m(\u001b[0m\u001b[0mself\u001b[0m\u001b[0;34m,\u001b[0m \u001b[0mparams\u001b[0m\u001b[0;34m)\u001b[0m\u001b[0;34m:\u001b[0m\u001b[0;34m\u001b[0m\u001b[0;34m\u001b[0m\u001b[0m\n",
      "\u001b[0;32m~/anaconda3/envs/suhyun2/lib/python3.6/site-packages/statsmodels/tools/numdiff.py\u001b[0m in \u001b[0;36mapprox_hess_cs\u001b[0;34m(x, f, epsilon, args, kwargs)\u001b[0m\n\u001b[1;32m    241\u001b[0m             hess[i, j] = (f(*((x + 1j*ee[i, :] + ee[j, :],) + args), **kwargs)\n\u001b[1;32m    242\u001b[0m                           - f(*((x + 1j*ee[i, :] - ee[j, :],)+args),\n\u001b[0;32m--> 243\u001b[0;31m                               **kwargs)).imag/2./hess[i, j]\n\u001b[0m\u001b[1;32m    244\u001b[0m             \u001b[0mhess\u001b[0m\u001b[0;34m[\u001b[0m\u001b[0mj\u001b[0m\u001b[0;34m,\u001b[0m \u001b[0mi\u001b[0m\u001b[0;34m]\u001b[0m \u001b[0;34m=\u001b[0m \u001b[0mhess\u001b[0m\u001b[0;34m[\u001b[0m\u001b[0mi\u001b[0m\u001b[0;34m,\u001b[0m \u001b[0mj\u001b[0m\u001b[0;34m]\u001b[0m\u001b[0;34m\u001b[0m\u001b[0;34m\u001b[0m\u001b[0m\n\u001b[1;32m    245\u001b[0m \u001b[0;34m\u001b[0m\u001b[0m\n",
      "\u001b[0;32m~/anaconda3/envs/suhyun2/lib/python3.6/site-packages/statsmodels/tsa/arima_model.py\u001b[0m in \u001b[0;36mloglike\u001b[0;34m(self, params, set_sigma2)\u001b[0m\n\u001b[1;32m    808\u001b[0m         \u001b[0mmethod\u001b[0m \u001b[0;34m=\u001b[0m \u001b[0mself\u001b[0m\u001b[0;34m.\u001b[0m\u001b[0mmethod\u001b[0m\u001b[0;34m\u001b[0m\u001b[0;34m\u001b[0m\u001b[0m\n\u001b[1;32m    809\u001b[0m         \u001b[0;32mif\u001b[0m \u001b[0mmethod\u001b[0m \u001b[0;32min\u001b[0m \u001b[0;34m[\u001b[0m\u001b[0;34m'mle'\u001b[0m\u001b[0;34m,\u001b[0m \u001b[0;34m'css-mle'\u001b[0m\u001b[0;34m]\u001b[0m\u001b[0;34m:\u001b[0m\u001b[0;34m\u001b[0m\u001b[0;34m\u001b[0m\u001b[0m\n\u001b[0;32m--> 810\u001b[0;31m             \u001b[0;32mreturn\u001b[0m \u001b[0mself\u001b[0m\u001b[0;34m.\u001b[0m\u001b[0mloglike_kalman\u001b[0m\u001b[0;34m(\u001b[0m\u001b[0mparams\u001b[0m\u001b[0;34m,\u001b[0m \u001b[0mset_sigma2\u001b[0m\u001b[0;34m)\u001b[0m\u001b[0;34m\u001b[0m\u001b[0;34m\u001b[0m\u001b[0m\n\u001b[0m\u001b[1;32m    811\u001b[0m         \u001b[0;32melif\u001b[0m \u001b[0mmethod\u001b[0m \u001b[0;34m==\u001b[0m \u001b[0;34m'css'\u001b[0m\u001b[0;34m:\u001b[0m\u001b[0;34m\u001b[0m\u001b[0;34m\u001b[0m\u001b[0m\n\u001b[1;32m    812\u001b[0m             \u001b[0;32mreturn\u001b[0m \u001b[0mself\u001b[0m\u001b[0;34m.\u001b[0m\u001b[0mloglike_css\u001b[0m\u001b[0;34m(\u001b[0m\u001b[0mparams\u001b[0m\u001b[0;34m,\u001b[0m \u001b[0mset_sigma2\u001b[0m\u001b[0;34m)\u001b[0m\u001b[0;34m\u001b[0m\u001b[0;34m\u001b[0m\u001b[0m\n",
      "\u001b[0;32m~/anaconda3/envs/suhyun2/lib/python3.6/site-packages/statsmodels/tsa/arima_model.py\u001b[0m in \u001b[0;36mloglike_kalman\u001b[0;34m(self, params, set_sigma2)\u001b[0m\n\u001b[1;32m    818\u001b[0m         \u001b[0mCompute\u001b[0m \u001b[0mexact\u001b[0m \u001b[0mloglikelihood\u001b[0m \u001b[0;32mfor\u001b[0m \u001b[0mARMA\u001b[0m\u001b[0;34m(\u001b[0m\u001b[0mp\u001b[0m\u001b[0;34m,\u001b[0m\u001b[0mq\u001b[0m\u001b[0;34m)\u001b[0m \u001b[0mmodel\u001b[0m \u001b[0mby\u001b[0m \u001b[0mthe\u001b[0m \u001b[0mKalman\u001b[0m \u001b[0mFilter\u001b[0m\u001b[0;34m.\u001b[0m\u001b[0;34m\u001b[0m\u001b[0;34m\u001b[0m\u001b[0m\n\u001b[1;32m    819\u001b[0m         \"\"\"\n\u001b[0;32m--> 820\u001b[0;31m         \u001b[0;32mreturn\u001b[0m \u001b[0mKalmanFilter\u001b[0m\u001b[0;34m.\u001b[0m\u001b[0mloglike\u001b[0m\u001b[0;34m(\u001b[0m\u001b[0mparams\u001b[0m\u001b[0;34m,\u001b[0m \u001b[0mself\u001b[0m\u001b[0;34m,\u001b[0m \u001b[0mset_sigma2\u001b[0m\u001b[0;34m)\u001b[0m\u001b[0;34m\u001b[0m\u001b[0;34m\u001b[0m\u001b[0m\n\u001b[0m\u001b[1;32m    821\u001b[0m \u001b[0;34m\u001b[0m\u001b[0m\n\u001b[1;32m    822\u001b[0m     \u001b[0;32mdef\u001b[0m \u001b[0mloglike_css\u001b[0m\u001b[0;34m(\u001b[0m\u001b[0mself\u001b[0m\u001b[0;34m,\u001b[0m \u001b[0mparams\u001b[0m\u001b[0;34m,\u001b[0m \u001b[0mset_sigma2\u001b[0m\u001b[0;34m=\u001b[0m\u001b[0;32mTrue\u001b[0m\u001b[0;34m)\u001b[0m\u001b[0;34m:\u001b[0m\u001b[0;34m\u001b[0m\u001b[0;34m\u001b[0m\u001b[0m\n",
      "\u001b[0;32m~/anaconda3/envs/suhyun2/lib/python3.6/site-packages/statsmodels/tsa/kalmanf/kalmanfilter.py\u001b[0m in \u001b[0;36mloglike\u001b[0;34m(cls, params, arma_model, set_sigma2)\u001b[0m\n\u001b[1;32m    222\u001b[0m             loglike, sigma2 = kalman_loglike.kalman_loglike_complex(\n\u001b[1;32m    223\u001b[0m                 \u001b[0my\u001b[0m\u001b[0;34m,\u001b[0m \u001b[0mk\u001b[0m\u001b[0;34m,\u001b[0m \u001b[0mk_ar\u001b[0m\u001b[0;34m,\u001b[0m \u001b[0mk_ma\u001b[0m\u001b[0;34m,\u001b[0m \u001b[0mk_lags\u001b[0m\u001b[0;34m,\u001b[0m \u001b[0mint\u001b[0m\u001b[0;34m(\u001b[0m\u001b[0mnobs\u001b[0m\u001b[0;34m)\u001b[0m\u001b[0;34m,\u001b[0m\u001b[0;34m\u001b[0m\u001b[0;34m\u001b[0m\u001b[0m\n\u001b[0;32m--> 224\u001b[0;31m                 Z_mat.astype(complex), R_mat, T_mat)\n\u001b[0m\u001b[1;32m    225\u001b[0m         \u001b[0;32melse\u001b[0m\u001b[0;34m:\u001b[0m\u001b[0;34m\u001b[0m\u001b[0;34m\u001b[0m\u001b[0m\n\u001b[1;32m    226\u001b[0m             raise TypeError(\"This dtype %s is not supported \"\n",
      "\u001b[0;32mstatsmodels/tsa/kalmanf/kalman_loglike.pyx\u001b[0m in \u001b[0;36mstatsmodels.tsa.kalmanf.kalman_loglike.kalman_loglike_complex\u001b[0;34m()\u001b[0m\n",
      "\u001b[0;32m<__array_function__ internals>\u001b[0m in \u001b[0;36msum\u001b[0;34m(*args, **kwargs)\u001b[0m\n",
      "\u001b[0;31mKeyboardInterrupt\u001b[0m: "
     ]
    }
   ],
   "source": [
    "# i = 500,501,502,,,,1468\n",
    "hour4_30=seosan_tem2[(seosan_tem2['일시'].apply(lambda x:x.hour)==4)]\n",
    "hour4_30=hour4_30[(hour4_30['일시'].apply(lambda x:x.minute)==30)].reset_index(drop=True)\n",
    "\n",
    "arr=np.array([])\n",
    "for i in range(500, hour4_30.shape[0]):    # 500~1468\n",
    "    train=hour4_30.iloc[ (i-500) : i ].set_index('일시')\n",
    "    model = ARIMA(train, order=(2,1,1))\n",
    "    model_fit = model.fit(trend='nc',full_output=True, disp=1)\n",
    "    fore = model_fit.forecast(steps=1)   \n",
    "    \n",
    "    np.append(arr,fore[0])\n",
    "    print(fore[0])"
   ]
  },
  {
   "cell_type": "code",
   "execution_count": 69,
   "metadata": {},
   "outputs": [
    {
     "data": {
      "text/plain": [
       "1468"
      ]
     },
     "execution_count": 69,
     "metadata": {},
     "output_type": "execute_result"
    }
   ],
   "source": [
    "hour4_30.shape[0]"
   ]
  },
  {
   "cell_type": "code",
   "execution_count": null,
   "metadata": {},
   "outputs": [],
   "source": [
    "hour4_30.iloc[(1468-500):1468]"
   ]
  },
  {
   "cell_type": "code",
   "execution_count": 156,
   "metadata": {},
   "outputs": [
    {
     "data": {
      "text/plain": [
       "일시    2017-08-14T04:30:00.000000000\n",
       "기온                            21.65\n",
       "Name: 500, dtype: object"
      ]
     },
     "execution_count": 156,
     "metadata": {},
     "output_type": "execute_result"
    }
   ],
   "source": [
    "# test값은 iloc[500], 501, 502,,,,1468\n",
    "hour4_30.iloc[500]"
   ]
  },
  {
   "cell_type": "code",
   "execution_count": 66,
   "metadata": {},
   "outputs": [
    {
     "data": {
      "text/html": [
       "<div>\n",
       "<style scoped>\n",
       "    .dataframe tbody tr th:only-of-type {\n",
       "        vertical-align: middle;\n",
       "    }\n",
       "\n",
       "    .dataframe tbody tr th {\n",
       "        vertical-align: top;\n",
       "    }\n",
       "\n",
       "    .dataframe thead th {\n",
       "        text-align: right;\n",
       "    }\n",
       "</style>\n",
       "<table border=\"1\" class=\"dataframe\">\n",
       "  <thead>\n",
       "    <tr style=\"text-align: right;\">\n",
       "      <th></th>\n",
       "      <th>일시</th>\n",
       "      <th>기온</th>\n",
       "    </tr>\n",
       "  </thead>\n",
       "  <tbody>\n",
       "    <tr>\n",
       "      <th>0</th>\n",
       "      <td>2016-04-01 04:30:00</td>\n",
       "      <td>4.20</td>\n",
       "    </tr>\n",
       "    <tr>\n",
       "      <th>1</th>\n",
       "      <td>2016-04-02 04:30:00</td>\n",
       "      <td>4.60</td>\n",
       "    </tr>\n",
       "    <tr>\n",
       "      <th>2</th>\n",
       "      <td>2016-04-03 04:30:00</td>\n",
       "      <td>8.90</td>\n",
       "    </tr>\n",
       "    <tr>\n",
       "      <th>3</th>\n",
       "      <td>2016-04-04 04:30:00</td>\n",
       "      <td>7.15</td>\n",
       "    </tr>\n",
       "    <tr>\n",
       "      <th>4</th>\n",
       "      <td>2016-04-05 04:30:00</td>\n",
       "      <td>1.50</td>\n",
       "    </tr>\n",
       "    <tr>\n",
       "      <th>...</th>\n",
       "      <td>...</td>\n",
       "      <td>...</td>\n",
       "    </tr>\n",
       "    <tr>\n",
       "      <th>495</th>\n",
       "      <td>2017-08-09 04:30:00</td>\n",
       "      <td>23.45</td>\n",
       "    </tr>\n",
       "    <tr>\n",
       "      <th>496</th>\n",
       "      <td>2017-08-10 04:30:00</td>\n",
       "      <td>24.05</td>\n",
       "    </tr>\n",
       "    <tr>\n",
       "      <th>497</th>\n",
       "      <td>2017-08-11 04:30:00</td>\n",
       "      <td>22.50</td>\n",
       "    </tr>\n",
       "    <tr>\n",
       "      <th>498</th>\n",
       "      <td>2017-08-12 04:30:00</td>\n",
       "      <td>23.70</td>\n",
       "    </tr>\n",
       "    <tr>\n",
       "      <th>499</th>\n",
       "      <td>2017-08-13 04:30:00</td>\n",
       "      <td>24.20</td>\n",
       "    </tr>\n",
       "  </tbody>\n",
       "</table>\n",
       "<p>500 rows × 2 columns</p>\n",
       "</div>"
      ],
      "text/plain": [
       "                     일시     기온\n",
       "0   2016-04-01 04:30:00   4.20\n",
       "1   2016-04-02 04:30:00   4.60\n",
       "2   2016-04-03 04:30:00   8.90\n",
       "3   2016-04-04 04:30:00   7.15\n",
       "4   2016-04-05 04:30:00   1.50\n",
       "..                  ...    ...\n",
       "495 2017-08-09 04:30:00  23.45\n",
       "496 2017-08-10 04:30:00  24.05\n",
       "497 2017-08-11 04:30:00  22.50\n",
       "498 2017-08-12 04:30:00  23.70\n",
       "499 2017-08-13 04:30:00  24.20\n",
       "\n",
       "[500 rows x 2 columns]"
      ]
     },
     "execution_count": 66,
     "metadata": {},
     "output_type": "execute_result"
    }
   ],
   "source": [
    "hour4_30.iloc[0:500]"
   ]
  },
  {
   "cell_type": "code",
   "execution_count": 67,
   "metadata": {},
   "outputs": [
    {
     "data": {
      "text/html": [
       "<div>\n",
       "<style scoped>\n",
       "    .dataframe tbody tr th:only-of-type {\n",
       "        vertical-align: middle;\n",
       "    }\n",
       "\n",
       "    .dataframe tbody tr th {\n",
       "        vertical-align: top;\n",
       "    }\n",
       "\n",
       "    .dataframe thead th {\n",
       "        text-align: right;\n",
       "    }\n",
       "</style>\n",
       "<table border=\"1\" class=\"dataframe\">\n",
       "  <thead>\n",
       "    <tr style=\"text-align: right;\">\n",
       "      <th></th>\n",
       "      <th>일시</th>\n",
       "      <th>기온</th>\n",
       "    </tr>\n",
       "  </thead>\n",
       "  <tbody>\n",
       "    <tr>\n",
       "      <th>1</th>\n",
       "      <td>2016-04-02 04:30:00</td>\n",
       "      <td>4.60</td>\n",
       "    </tr>\n",
       "    <tr>\n",
       "      <th>2</th>\n",
       "      <td>2016-04-03 04:30:00</td>\n",
       "      <td>8.90</td>\n",
       "    </tr>\n",
       "    <tr>\n",
       "      <th>3</th>\n",
       "      <td>2016-04-04 04:30:00</td>\n",
       "      <td>7.15</td>\n",
       "    </tr>\n",
       "    <tr>\n",
       "      <th>4</th>\n",
       "      <td>2016-04-05 04:30:00</td>\n",
       "      <td>1.50</td>\n",
       "    </tr>\n",
       "    <tr>\n",
       "      <th>5</th>\n",
       "      <td>2016-04-06 04:30:00</td>\n",
       "      <td>3.10</td>\n",
       "    </tr>\n",
       "    <tr>\n",
       "      <th>...</th>\n",
       "      <td>...</td>\n",
       "      <td>...</td>\n",
       "    </tr>\n",
       "    <tr>\n",
       "      <th>496</th>\n",
       "      <td>2017-08-10 04:30:00</td>\n",
       "      <td>24.05</td>\n",
       "    </tr>\n",
       "    <tr>\n",
       "      <th>497</th>\n",
       "      <td>2017-08-11 04:30:00</td>\n",
       "      <td>22.50</td>\n",
       "    </tr>\n",
       "    <tr>\n",
       "      <th>498</th>\n",
       "      <td>2017-08-12 04:30:00</td>\n",
       "      <td>23.70</td>\n",
       "    </tr>\n",
       "    <tr>\n",
       "      <th>499</th>\n",
       "      <td>2017-08-13 04:30:00</td>\n",
       "      <td>24.20</td>\n",
       "    </tr>\n",
       "    <tr>\n",
       "      <th>500</th>\n",
       "      <td>2017-08-14 04:30:00</td>\n",
       "      <td>21.65</td>\n",
       "    </tr>\n",
       "  </tbody>\n",
       "</table>\n",
       "<p>500 rows × 2 columns</p>\n",
       "</div>"
      ],
      "text/plain": [
       "                     일시     기온\n",
       "1   2016-04-02 04:30:00   4.60\n",
       "2   2016-04-03 04:30:00   8.90\n",
       "3   2016-04-04 04:30:00   7.15\n",
       "4   2016-04-05 04:30:00   1.50\n",
       "5   2016-04-06 04:30:00   3.10\n",
       "..                  ...    ...\n",
       "496 2017-08-10 04:30:00  24.05\n",
       "497 2017-08-11 04:30:00  22.50\n",
       "498 2017-08-12 04:30:00  23.70\n",
       "499 2017-08-13 04:30:00  24.20\n",
       "500 2017-08-14 04:30:00  21.65\n",
       "\n",
       "[500 rows x 2 columns]"
      ]
     },
     "execution_count": 67,
     "metadata": {},
     "output_type": "execute_result"
    }
   ],
   "source": [
    "hour4_30.iloc[1:501]"
   ]
  },
  {
   "cell_type": "code",
   "execution_count": 55,
   "metadata": {},
   "outputs": [
    {
     "data": {
      "text/html": [
       "<div>\n",
       "<style scoped>\n",
       "    .dataframe tbody tr th:only-of-type {\n",
       "        vertical-align: middle;\n",
       "    }\n",
       "\n",
       "    .dataframe tbody tr th {\n",
       "        vertical-align: top;\n",
       "    }\n",
       "\n",
       "    .dataframe thead th {\n",
       "        text-align: right;\n",
       "    }\n",
       "</style>\n",
       "<table border=\"1\" class=\"dataframe\">\n",
       "  <thead>\n",
       "    <tr style=\"text-align: right;\">\n",
       "      <th></th>\n",
       "      <th>일시</th>\n",
       "      <th>기온</th>\n",
       "    </tr>\n",
       "  </thead>\n",
       "  <tbody>\n",
       "    <tr>\n",
       "      <th>0</th>\n",
       "      <td>2016-04-01 04:30:00</td>\n",
       "      <td>4.20</td>\n",
       "    </tr>\n",
       "    <tr>\n",
       "      <th>1</th>\n",
       "      <td>2016-04-02 04:30:00</td>\n",
       "      <td>4.60</td>\n",
       "    </tr>\n",
       "    <tr>\n",
       "      <th>2</th>\n",
       "      <td>2016-04-03 04:30:00</td>\n",
       "      <td>8.90</td>\n",
       "    </tr>\n",
       "    <tr>\n",
       "      <th>3</th>\n",
       "      <td>2016-04-04 04:30:00</td>\n",
       "      <td>7.15</td>\n",
       "    </tr>\n",
       "    <tr>\n",
       "      <th>4</th>\n",
       "      <td>2016-04-05 04:30:00</td>\n",
       "      <td>1.50</td>\n",
       "    </tr>\n",
       "    <tr>\n",
       "      <th>...</th>\n",
       "      <td>...</td>\n",
       "      <td>...</td>\n",
       "    </tr>\n",
       "    <tr>\n",
       "      <th>1463</th>\n",
       "      <td>2020-04-03 04:30:00</td>\n",
       "      <td>1.55</td>\n",
       "    </tr>\n",
       "    <tr>\n",
       "      <th>1464</th>\n",
       "      <td>2020-04-04 04:30:00</td>\n",
       "      <td>6.05</td>\n",
       "    </tr>\n",
       "    <tr>\n",
       "      <th>1465</th>\n",
       "      <td>2020-04-05 04:30:00</td>\n",
       "      <td>4.10</td>\n",
       "    </tr>\n",
       "    <tr>\n",
       "      <th>1466</th>\n",
       "      <td>2020-04-06 04:30:00</td>\n",
       "      <td>-1.30</td>\n",
       "    </tr>\n",
       "    <tr>\n",
       "      <th>1467</th>\n",
       "      <td>2020-04-07 04:30:00</td>\n",
       "      <td>3.00</td>\n",
       "    </tr>\n",
       "  </tbody>\n",
       "</table>\n",
       "<p>1468 rows × 2 columns</p>\n",
       "</div>"
      ],
      "text/plain": [
       "                      일시    기온\n",
       "0    2016-04-01 04:30:00  4.20\n",
       "1    2016-04-02 04:30:00  4.60\n",
       "2    2016-04-03 04:30:00  8.90\n",
       "3    2016-04-04 04:30:00  7.15\n",
       "4    2016-04-05 04:30:00  1.50\n",
       "...                  ...   ...\n",
       "1463 2020-04-03 04:30:00  1.55\n",
       "1464 2020-04-04 04:30:00  6.05\n",
       "1465 2020-04-05 04:30:00  4.10\n",
       "1466 2020-04-06 04:30:00 -1.30\n",
       "1467 2020-04-07 04:30:00  3.00\n",
       "\n",
       "[1468 rows x 2 columns]"
      ]
     },
     "execution_count": 55,
     "metadata": {},
     "output_type": "execute_result"
    }
   ],
   "source": [
    "# 4시반 데이터만 일자별로 가져오기\n",
    "hour4_30=seosan_tem2[(seosan_tem2['일시'].apply(lambda x:x.hour)==4)]\n",
    "hour4_30=hour4_30[(hour4_30['일시'].apply(lambda x:x.minute)==30)].reset_index(drop=True)\n",
    "hour4_30"
   ]
  },
  {
   "cell_type": "code",
   "execution_count": null,
   "metadata": {},
   "outputs": [],
   "source": []
  },
  {
   "cell_type": "code",
   "execution_count": null,
   "metadata": {},
   "outputs": [],
   "source": []
  },
  {
   "cell_type": "code",
   "execution_count": null,
   "metadata": {},
   "outputs": [],
   "source": [
    "# Split data into train / test sets \n",
    "train = seosan_tem2[:1000].iloc[:len(seosan_tem2[:1000])-50] \n",
    "test = seosan_tem2[:1000].iloc[len(seosan_tem2[:1000])-50:]  \n",
    "  \n",
    "from statsmodels.tsa.arima_model import ARIMA\n",
    "model = ARIMA(train['기온'][:1000], order=(2,1,1))\n",
    "result = model.fit() \n",
    "result.summary() "
   ]
  },
  {
   "cell_type": "code",
   "execution_count": null,
   "metadata": {},
   "outputs": [],
   "source": [
    "start = len(train)   # 950\n",
    "end = len(train) + len(test) - 1    # 999\n",
    "  \n",
    "# Predictions for one-year against the test set \n",
    "predictions = result.predict(start, end, \n",
    "                             typ = 'levels').rename(\"Predictions\") \n",
    "  \n",
    "# plot predictions and actual values \n",
    "predictions.plot(legend = True) \n",
    "test['기온'].plot(legend = True)\n",
    "plt.show()"
   ]
  },
  {
   "cell_type": "code",
   "execution_count": null,
   "metadata": {},
   "outputs": [],
   "source": []
  },
  {
   "cell_type": "code",
   "execution_count": null,
   "metadata": {},
   "outputs": [],
   "source": []
  },
  {
   "cell_type": "code",
   "execution_count": null,
   "metadata": {},
   "outputs": [],
   "source": []
  }
 ],
 "metadata": {
  "kernelspec": {
   "display_name": "suhyun3",
   "language": "python",
   "name": "suhyun3"
  },
  "language_info": {
   "codemirror_mode": {
    "name": "ipython",
    "version": 3
   },
   "file_extension": ".py",
   "mimetype": "text/x-python",
   "name": "python",
   "nbconvert_exporter": "python",
   "pygments_lexer": "ipython3",
   "version": "3.7.4"
  }
 },
 "nbformat": 4,
 "nbformat_minor": 4
}
